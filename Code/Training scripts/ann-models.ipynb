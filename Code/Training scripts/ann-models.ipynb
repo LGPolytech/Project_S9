{
 "cells": [
  {
   "cell_type": "markdown",
   "id": "e3ecbd6e",
   "metadata": {
    "papermill": {
     "duration": 0.017143,
     "end_time": "2024-02-15T18:59:01.279288",
     "exception": false,
     "start_time": "2024-02-15T18:59:01.262145",
     "status": "completed"
    },
    "tags": []
   },
   "source": [
    "# Testing CNN classification models on the dataset"
   ]
  },
  {
   "cell_type": "markdown",
   "id": "32d99926",
   "metadata": {},
   "source": [
    "## The dataset"
   ]
  },
  {
   "cell_type": "code",
   "execution_count": 1,
   "id": "12e85b7c",
   "metadata": {
    "execution": {
     "iopub.execute_input": "2024-02-15T18:59:01.313590Z",
     "iopub.status.busy": "2024-02-15T18:59:01.313309Z",
     "iopub.status.idle": "2024-02-15T18:59:09.543147Z",
     "shell.execute_reply": "2024-02-15T18:59:09.542265Z"
    },
    "papermill": {
     "duration": 8.249487,
     "end_time": "2024-02-15T18:59:09.545553",
     "exception": false,
     "start_time": "2024-02-15T18:59:01.296066",
     "status": "completed"
    },
    "tags": []
   },
   "outputs": [],
   "source": [
    "import os\n",
    "import torch\n",
    "import torch.nn as nn\n",
    "import torch.nn.functional as F\n",
    "import torch.optim as optim\n",
    "import torchvision\n",
    "import torchvision.transforms as transforms\n",
    "\n",
    "# importing sound classification models from torchaudio\n",
    "import torchaudio\n",
    "\n",
    "import matplotlib.pyplot as plt\n",
    "import tqdm"
   ]
  },
  {
   "cell_type": "code",
   "execution_count": 2,
   "id": "075d5905",
   "metadata": {
    "execution": {
     "iopub.execute_input": "2024-02-15T18:59:09.581955Z",
     "iopub.status.busy": "2024-02-15T18:59:09.581523Z",
     "iopub.status.idle": "2024-02-15T18:59:09.693262Z",
     "shell.execute_reply": "2024-02-15T18:59:09.692063Z"
    },
    "papermill": {
     "duration": 0.132633,
     "end_time": "2024-02-15T18:59:09.695547",
     "exception": false,
     "start_time": "2024-02-15T18:59:09.562914",
     "status": "completed"
    },
    "tags": []
   },
   "outputs": [
    {
     "name": "stdout",
     "output_type": "stream",
     "text": [
      "Available devices:\n",
      "2\n",
      "List of devices:\n",
      "<torch.cuda.device object at 0x7d829e271c90>\n",
      "Tesla T4\n",
      "<torch.cuda.device object at 0x7d829e271c90>\n",
      "Tesla T4\n"
     ]
    }
   ],
   "source": [
    "# List the available devices:\n",
    "print(\"Available devices:\")\n",
    "print(torch.cuda.device_count())\n",
    "print(\"List of devices:\")\n",
    "print(torch.cuda.device(0))\n",
    "print(torch.cuda.get_device_name(0))\n",
    "print(torch.cuda.device(1))\n",
    "print(torch.cuda.get_device_name(1))\n",
    "device_ids = [0, 1]"
   ]
  },
  {
   "cell_type": "code",
   "execution_count": 3,
   "id": "4960aff6",
   "metadata": {
    "execution": {
     "iopub.execute_input": "2024-02-15T18:59:09.731138Z",
     "iopub.status.busy": "2024-02-15T18:59:09.730867Z",
     "iopub.status.idle": "2024-02-15T18:59:09.735899Z",
     "shell.execute_reply": "2024-02-15T18:59:09.735198Z"
    },
    "papermill": {
     "duration": 0.024495,
     "end_time": "2024-02-15T18:59:09.737734",
     "exception": false,
     "start_time": "2024-02-15T18:59:09.713239",
     "status": "completed"
    },
    "tags": []
   },
   "outputs": [],
   "source": [
    "# using gpus if available\n",
    "#device = torch.device(\"cuda:0\" if torch.cuda.is_available() else \"cpu\")\n",
    "#print(device)\n",
    "os.environ[\"CUDA_VISIBLE_DEVICES\"] = \"0,1\"  # to use both GPUs\n"
   ]
  },
  {
   "cell_type": "code",
   "execution_count": 4,
   "id": "00e780b6",
   "metadata": {
    "execution": {
     "iopub.execute_input": "2024-02-15T18:59:09.772045Z",
     "iopub.status.busy": "2024-02-15T18:59:09.771783Z",
     "iopub.status.idle": "2024-02-15T18:59:09.776281Z",
     "shell.execute_reply": "2024-02-15T18:59:09.775446Z"
    },
    "papermill": {
     "duration": 0.023931,
     "end_time": "2024-02-15T18:59:09.778190",
     "exception": false,
     "start_time": "2024-02-15T18:59:09.754259",
     "status": "completed"
    },
    "tags": []
   },
   "outputs": [],
   "source": [
    "# Loading the dataset\n",
    "## Structure of the dataset is as follows:\n",
    "### dataset_folder -> Folder_name_of_one_class -> audio_file.wav\n",
    "dataset_folder = '/kaggle/input/trainset/TrainSet'\n",
    "animals_folder = dataset_folder + '/Animals'+'/animals_segmented'\n",
    "music_folder = dataset_folder + '/Music'+'/instruments_segmented'\n",
    "sot_folder = dataset_folder + '/SoT'+'/sound_of_things_segmented'"
   ]
  },
  {
   "cell_type": "code",
   "execution_count": 5,
   "id": "60507f1f",
   "metadata": {
    "execution": {
     "iopub.execute_input": "2024-02-15T18:59:09.814970Z",
     "iopub.status.busy": "2024-02-15T18:59:09.814171Z",
     "iopub.status.idle": "2024-02-15T18:59:10.016265Z",
     "shell.execute_reply": "2024-02-15T18:59:10.015255Z"
    },
    "papermill": {
     "duration": 0.223419,
     "end_time": "2024-02-15T18:59:10.018319",
     "exception": false,
     "start_time": "2024-02-15T18:59:09.794900",
     "status": "completed"
    },
    "tags": []
   },
   "outputs": [
    {
     "name": "stdout",
     "output_type": "stream",
     "text": [
      "447\n",
      "504\n",
      "454\n",
      "Total number of files:  1405\n",
      "['/kaggle/input/trainset/TrainSet/Animals/animals_segmented/YIAXl7VjxHAM.wav', '/kaggle/input/trainset/TrainSet/Animals/animals_segmented/YF4XKK8D22rY.wav', '/kaggle/input/trainset/TrainSet/Animals/animals_segmented/YO7SINEL58Ms.wav', '/kaggle/input/trainset/TrainSet/Animals/animals_segmented/Y8d3WbkLC7Gw.wav', '/kaggle/input/trainset/TrainSet/Animals/animals_segmented/Y2dazr-GBSFY.wav']\n"
     ]
    }
   ],
   "source": [
    "# Putting the data paths into dictionaries (key: class, value: list of file names)\n",
    "data_paths = {\n",
    "    'animals': [os.path.join(animals_folder, file) for file in os.listdir(animals_folder)],\n",
    "    'music': [os.path.join(music_folder, file) for file in os.listdir(music_folder)],\n",
    "    'sot': [os.path.join(sot_folder, file) for file in os.listdir(sot_folder)]\n",
    "}\n",
    "\n",
    "animals_dict = {\n",
    "    \"animals\": 0,\n",
    "    \"music\": 1,\n",
    "    \"sot\": 2\n",
    "}\n",
    "\n",
    "# print len of each class\n",
    "print(len(data_paths['animals']))\n",
    "print(len(data_paths['music']))\n",
    "print(len(data_paths['sot']))\n",
    "print(\"Total number of files: \", len(data_paths['animals']) + len(data_paths['music']) + len(data_paths['sot']))\n",
    "\n",
    "print(data_paths['animals'][:5])"
   ]
  },
  {
   "cell_type": "code",
   "execution_count": 6,
   "id": "2cce1012",
   "metadata": {
    "execution": {
     "iopub.execute_input": "2024-02-15T18:59:10.053093Z",
     "iopub.status.busy": "2024-02-15T18:59:10.052801Z",
     "iopub.status.idle": "2024-02-15T18:59:10.057779Z",
     "shell.execute_reply": "2024-02-15T18:59:10.056897Z"
    },
    "papermill": {
     "duration": 0.024264,
     "end_time": "2024-02-15T18:59:10.059654",
     "exception": false,
     "start_time": "2024-02-15T18:59:10.035390",
     "status": "completed"
    },
    "tags": []
   },
   "outputs": [],
   "source": [
    "# Tuple to tensor of numbers\n",
    "def name_tuple_to_float_tensor(tuple):\n",
    "    # Read the content of the tupe and use animals_dict to convert the class name to a number in a new tensor\n",
    "    return torch.tensor([animals_dict[tuple[i]] for i in range(len(tuple))], dtype=torch.float32)"
   ]
  },
  {
   "cell_type": "code",
   "execution_count": 7,
   "id": "8931a7b6",
   "metadata": {
    "execution": {
     "iopub.execute_input": "2024-02-15T18:59:10.095248Z",
     "iopub.status.busy": "2024-02-15T18:59:10.095003Z",
     "iopub.status.idle": "2024-02-15T18:59:10.103615Z",
     "shell.execute_reply": "2024-02-15T18:59:10.102789Z"
    },
    "papermill": {
     "duration": 0.028648,
     "end_time": "2024-02-15T18:59:10.105466",
     "exception": false,
     "start_time": "2024-02-15T18:59:10.076818",
     "status": "completed"
    },
    "tags": []
   },
   "outputs": [],
   "source": [
    "import torch\n",
    "from torch.utils.data import Dataset\n",
    "num_classes = 3\n",
    "class AudioDataset(Dataset):\n",
    "    def __init__(self, data_paths, transform=None):\n",
    "        self.data_paths = data_paths\n",
    "        self.classes = list(data_paths.keys())\n",
    "        self.files = sum([data_paths[cls] for cls in self.classes], [])\n",
    "        self.transform = transform\n",
    "\n",
    "    def __len__(self):\n",
    "        return len(self.files)\n",
    "\n",
    "    def __getitem__(self, idx):\n",
    "        for cls in self.classes:\n",
    "            if idx < len(self.data_paths[cls]):\n",
    "                file = self.data_paths[cls][idx]\n",
    "                classe = cls\n",
    "                break\n",
    "            idx -= len(self.data_paths[cls])\n",
    "        else:\n",
    "            raise IndexError('Index out of range')\n",
    "\n",
    "        waveform, sample_rate = torchaudio.load(file)\n",
    "        if self.transform:\n",
    "            mfcc = self.transform(waveform)\n",
    "        \n",
    "        if True:\n",
    "            # Taking a mean tensor of the mfcc 2 channel tensor\n",
    "            mfcc = torch.mean(mfcc, dim=0)\n",
    "        return mfcc, sample_rate, classe"
   ]
  },
  {
   "cell_type": "code",
   "execution_count": 8,
   "id": "ae94e6a7",
   "metadata": {
    "execution": {
     "iopub.execute_input": "2024-02-15T18:59:10.142032Z",
     "iopub.status.busy": "2024-02-15T18:59:10.141454Z",
     "iopub.status.idle": "2024-02-15T18:59:10.308366Z",
     "shell.execute_reply": "2024-02-15T18:59:10.307383Z"
    },
    "papermill": {
     "duration": 0.187602,
     "end_time": "2024-02-15T18:59:10.310639",
     "exception": false,
     "start_time": "2024-02-15T18:59:10.123037",
     "status": "completed"
    },
    "tags": []
   },
   "outputs": [
    {
     "name": "stderr",
     "output_type": "stream",
     "text": [
      "/opt/conda/lib/python3.10/site-packages/torchaudio/functional/functional.py:584: UserWarning: At least one mel filterbank has all zero values. The value for `n_mels` (128) may be set too high. Or, the value for `n_freqs` (201) may be set too low.\n",
      "  warnings.warn(\n"
     ]
    }
   ],
   "source": [
    "transforms = torchaudio.transforms.MFCC(\n",
    "    sample_rate= 48000,\n",
    "    n_mfcc=40, # number of M\n",
    "    melkwargs={\n",
    "        'n_fft': 400,\n",
    "        'hop_length': 160,\n",
    "        'n_mels': 128\n",
    "    })"
   ]
  },
  {
   "cell_type": "code",
   "execution_count": 9,
   "id": "2354a9b6",
   "metadata": {
    "execution": {
     "iopub.execute_input": "2024-02-15T18:59:10.347977Z",
     "iopub.status.busy": "2024-02-15T18:59:10.347648Z",
     "iopub.status.idle": "2024-02-15T18:59:10.595851Z",
     "shell.execute_reply": "2024-02-15T18:59:10.594858Z"
    },
    "papermill": {
     "duration": 0.26832,
     "end_time": "2024-02-15T18:59:10.598055",
     "exception": false,
     "start_time": "2024-02-15T18:59:10.329735",
     "status": "completed"
    },
    "tags": []
   },
   "outputs": [
    {
     "name": "stdout",
     "output_type": "stream",
     "text": [
      "torch.Size([40, 3001]) 48000 animals\n",
      "tensor([[-200.8563, -362.0678, -412.4749,  ..., -336.3416, -275.5495,\n",
      "         -178.4266],\n",
      "        [ -59.0096,  -29.2521,  -37.6446,  ...,   -2.6386,  -23.1018,\n",
      "          -21.0079],\n",
      "        [-117.4281,  -86.6991,  -74.0724,  ...,  -69.4863,  -87.2835,\n",
      "         -104.7252],\n",
      "        ...,\n",
      "        [ -10.2031,   -6.8450,   -2.0041,  ...,  -15.8154,  -12.6054,\n",
      "           -8.6286],\n",
      "        [  -9.6286,   -9.0642,   -4.9298,  ...,    2.9605,  -10.7959,\n",
      "          -18.6853],\n",
      "        [  -5.3229,    3.0649,    7.8135,  ...,    2.7072,   -1.5437,\n",
      "          -10.1137]])\n"
     ]
    }
   ],
   "source": [
    "dataset = AudioDataset(data_paths, transform=transforms)\n",
    "mfcctensor, sample_rate, classe = dataset.__getitem__(0)\n",
    "print(mfcctensor.shape, sample_rate, classe)\n",
    "\n",
    "print(mfcctensor)"
   ]
  },
  {
   "cell_type": "code",
   "execution_count": 10,
   "id": "0101c411",
   "metadata": {
    "execution": {
     "iopub.execute_input": "2024-02-15T18:59:10.634433Z",
     "iopub.status.busy": "2024-02-15T18:59:10.634140Z",
     "iopub.status.idle": "2024-02-15T18:59:12.387530Z",
     "shell.execute_reply": "2024-02-15T18:59:12.386592Z"
    },
    "papermill": {
     "duration": 1.774062,
     "end_time": "2024-02-15T18:59:12.390142",
     "exception": false,
     "start_time": "2024-02-15T18:59:10.616080",
     "status": "completed"
    },
    "tags": []
   },
   "outputs": [
    {
     "data": {
      "image/png": "[encoded data removed]",
      "text/plain": [
       "<Figure size 1000x400 with 2 Axes>"
      ]
     },
     "metadata": {},
     "output_type": "display_data"
    }
   ],
   "source": [
    "import librosa.display\n",
    "import matplotlib.pyplot as plt\n",
    "\n",
    "# Select one channel of the MFCC tensor\n",
    "mfcc_channel_1 = mfcctensor.detach().numpy() # mfcctensor[0].detach().numpy()\n",
    "\n",
    "# Plot the MFCC\n",
    "plt.figure(figsize=(10, 4))\n",
    "librosa.display.specshow(mfcc_channel_1, x_axis='time')\n",
    "plt.colorbar()\n",
    "plt.title('MFCC')\n",
    "plt.tight_layout()\n",
    "plt.show()"
   ]
  },
  {
   "cell_type": "code",
   "execution_count": 11,
   "id": "80aa4165",
   "metadata": {
    "execution": {
     "iopub.execute_input": "2024-02-15T18:59:12.427032Z",
     "iopub.status.busy": "2024-02-15T18:59:12.426698Z",
     "iopub.status.idle": "2024-02-15T18:59:14.516443Z",
     "shell.execute_reply": "2024-02-15T18:59:14.515317Z"
    },
    "papermill": {
     "duration": 2.110543,
     "end_time": "2024-02-15T18:59:14.518686",
     "exception": false,
     "start_time": "2024-02-15T18:59:12.408143",
     "status": "completed"
    },
    "tags": []
   },
   "outputs": [
    {
     "name": "stdout",
     "output_type": "stream",
     "text": [
      "1124 140 141\n",
      "1405\n",
      "torch.Size([32, 40, 3001]) tensor([48000, 48000, 48000, 48000, 48000, 48000, 48000, 48000, 48000, 48000,\n",
      "        48000, 48000, 48000, 48000, 48000, 48000, 48000, 48000, 48000, 48000,\n",
      "        48000, 48000, 48000, 48000, 48000, 48000, 48000, 48000, 48000, 48000,\n",
      "        48000, 48000]) ('sot', 'music', 'animals', 'animals', 'sot', 'animals', 'music', 'music', 'animals', 'sot', 'animals', 'music', 'animals', 'sot', 'music', 'sot', 'music', 'animals', 'animals', 'music', 'animals', 'animals', 'sot', 'music', 'music', 'animals', 'sot', 'sot', 'sot', 'animals', 'sot', 'music')\n"
     ]
    }
   ],
   "source": [
    "# Create a dataloader\n",
    "#audio_dataloader = torch.utils.data.DataLoader(dataset, batch_size=32, shuffle=True)\n",
    "\n",
    "BATCH_SIZE = 32\n",
    "\n",
    "# Split the dataset into training, validation and test sets\n",
    "train_size = int(0.8 * len(dataset))\n",
    "val_size = int(0.1 * len(dataset))\n",
    "test_size = len(dataset) - train_size - val_size\n",
    "train_dataset, val_dataset, test_dataset = torch.utils.data.random_split(dataset, [train_size, val_size, test_size])\n",
    "print(len(train_dataset), len(val_dataset), len(test_dataset))\n",
    "print(len(train_dataset) + len(val_dataset) + len(test_dataset))\n",
    "\n",
    "# Create dataloaders for the training, validation and test sets\n",
    "train_dataloader = torch.utils.data.DataLoader(train_dataset, batch_size=BATCH_SIZE, shuffle=True)\n",
    "val_dataloader = torch.utils.data.DataLoader(val_dataset, batch_size=BATCH_SIZE, shuffle=True)\n",
    "test_dataloader = torch.utils.data.DataLoader(test_dataset, batch_size=BATCH_SIZE, shuffle=True)\n",
    "\n",
    "# get the first element of the dataloader\n",
    "dataiter = iter(train_dataloader)\n",
    "mfcctensor, sample_rate, classe = next(dataiter)\n",
    "print(mfcctensor.shape, sample_rate, classe)\n"
   ]
  },
  {
   "cell_type": "code",
   "execution_count": 12,
   "id": "8c22f5b0",
   "metadata": {
    "execution": {
     "iopub.execute_input": "2024-02-15T18:59:15.312439Z",
     "iopub.status.busy": "2024-02-15T18:59:15.312048Z",
     "iopub.status.idle": "2024-02-15T18:59:15.316705Z",
     "shell.execute_reply": "2024-02-15T18:59:15.315763Z"
    },
    "papermill": {
     "duration": 0.028412,
     "end_time": "2024-02-15T18:59:15.318958",
     "exception": false,
     "start_time": "2024-02-15T18:59:15.290546",
     "status": "completed"
    },
    "tags": []
   },
   "outputs": [],
   "source": [
    "torch.cuda.empty_cache()"
   ]
  },
  {
   "cell_type": "markdown",
   "id": "cbd0da0e",
   "metadata": {},
   "source": [
    "### Simple CNN model"
   ]
  },
  {
   "cell_type": "code",
   "execution_count": 13,
   "id": "7b138a53",
   "metadata": {
    "execution": {
     "iopub.execute_input": "2024-02-15T18:59:15.362330Z",
     "iopub.status.busy": "2024-02-15T18:59:15.361601Z",
     "iopub.status.idle": "2024-02-15T18:59:15.382291Z",
     "shell.execute_reply": "2024-02-15T18:59:15.381391Z"
    },
    "papermill": {
     "duration": 0.043778,
     "end_time": "2024-02-15T18:59:15.384368",
     "exception": false,
     "start_time": "2024-02-15T18:59:15.340590",
     "status": "completed"
    },
    "tags": []
   },
   "outputs": [
    {
     "name": "stdout",
     "output_type": "stream",
     "text": [
      "SimpleCNN(\n",
      "  (conv1): Conv2d(1, 12, kernel_size=(5, 5), stride=(1, 1))\n",
      "  (conv2): Conv2d(12, 64, kernel_size=(5, 5), stride=(1, 1))\n",
      "  (fc1): Linear(in_features=334656, out_features=3, bias=True)\n",
      ")\n"
     ]
    }
   ],
   "source": [
    "class SimpleCNN(nn.Module):\n",
    "    def __init__(self):\n",
    "        super(SimpleCNN, self).__init__()\n",
    "        self.conv1 = nn.Conv2d(1, 12, kernel_size=5)\n",
    "        self.conv2 = nn.Conv2d(12, 64, kernel_size=5)\n",
    "        self.fc1 = nn.Linear(334656, 3)  # Adjust the parameters here to match the original model\n",
    "\n",
    "    def forward(self, x):\n",
    "        #print(x.shape)\n",
    "        x = x.unsqueeze(1)  # Add a channel dimension\n",
    "        #print(x.shape)\n",
    "        x = self.conv1(x)\n",
    "        #print(x.shape)\n",
    "        x = F.max_pool2d(x, 2)\n",
    "        x = self.conv2(x)\n",
    "        #print(x.shape)\n",
    "        x = F.max_pool2d(x, 2)\n",
    "        #print(x.shape)\n",
    "        x = x.view(x.size(0), -1)  # Flatten the tensor\n",
    "        #print(x.shape)\n",
    "        x = self.fc1(x)  # Replace with your desired activation function\n",
    "        return F.log_softmax(x, dim=1)\n",
    "\n",
    "model = SimpleCNN()\n",
    "print(model)"
   ]
  },
  {
   "cell_type": "code",
   "execution_count": 14,
   "id": "ed7522a8",
   "metadata": {
    "execution": {
     "iopub.execute_input": "2024-02-15T18:59:15.424328Z",
     "iopub.status.busy": "2024-02-15T18:59:15.424029Z",
     "iopub.status.idle": "2024-02-15T19:39:07.958376Z",
     "shell.execute_reply": "2024-02-15T19:39:07.957402Z"
    },
    "papermill": {
     "duration": 2392.585576,
     "end_time": "2024-02-15T19:39:07.989443",
     "exception": false,
     "start_time": "2024-02-15T18:59:15.403867",
     "status": "completed"
    },
    "tags": []
   },
   "outputs": [
    {
     "name": "stderr",
     "output_type": "stream",
     "text": [
      "  2%|▏         | 1/50 [01:23<1:08:12, 83.52s/it]"
     ]
    },
    {
     "name": "stdout",
     "output_type": "stream",
     "text": [
      "[1] loss: 2.489 | Accuracy: 31 %\n"
     ]
    },
    {
     "name": "stderr",
     "output_type": "stream",
     "text": [
      "  4%|▍         | 2/50 [02:10<49:41, 62.12s/it]  "
     ]
    },
    {
     "name": "stdout",
     "output_type": "stream",
     "text": [
      "[2] loss: 1.237 | Accuracy: 51 %\n"
     ]
    },
    {
     "name": "stderr",
     "output_type": "stream",
     "text": [
      "  6%|▌         | 3/50 [02:58<43:25, 55.43s/it]"
     ]
    },
    {
     "name": "stdout",
     "output_type": "stream",
     "text": [
      "[3] loss: 1.127 | Accuracy: 50 %\n"
     ]
    },
    {
     "name": "stderr",
     "output_type": "stream",
     "text": [
      "  8%|▊         | 4/50 [03:44<39:51, 51.99s/it]"
     ]
    },
    {
     "name": "stdout",
     "output_type": "stream",
     "text": [
      "[4] loss: 0.980 | Accuracy: 52 %\n"
     ]
    },
    {
     "name": "stderr",
     "output_type": "stream",
     "text": [
      " 10%|█         | 5/50 [04:31<37:36, 50.14s/it]"
     ]
    },
    {
     "name": "stdout",
     "output_type": "stream",
     "text": [
      "[5] loss: 0.976 | Accuracy: 52 %\n"
     ]
    },
    {
     "name": "stderr",
     "output_type": "stream",
     "text": [
      " 12%|█▏        | 6/50 [05:18<35:49, 48.85s/it]"
     ]
    },
    {
     "name": "stdout",
     "output_type": "stream",
     "text": [
      "[6] loss: 0.892 | Accuracy: 56 %\n"
     ]
    },
    {
     "name": "stderr",
     "output_type": "stream",
     "text": [
      " 14%|█▍        | 7/50 [06:05<34:38, 48.34s/it]"
     ]
    },
    {
     "name": "stdout",
     "output_type": "stream",
     "text": [
      "[7] loss: 0.836 | Accuracy: 53 %\n"
     ]
    },
    {
     "name": "stderr",
     "output_type": "stream",
     "text": [
      " 16%|█▌        | 8/50 [06:52<33:30, 47.87s/it]"
     ]
    },
    {
     "name": "stdout",
     "output_type": "stream",
     "text": [
      "[8] loss: 0.770 | Accuracy: 52 %\n"
     ]
    },
    {
     "name": "stderr",
     "output_type": "stream",
     "text": [
      " 18%|█▊        | 9/50 [07:39<32:35, 47.70s/it]"
     ]
    },
    {
     "name": "stdout",
     "output_type": "stream",
     "text": [
      "[9] loss: 0.730 | Accuracy: 52 %\n"
     ]
    },
    {
     "name": "stderr",
     "output_type": "stream",
     "text": [
      " 20%|██        | 10/50 [08:25<31:32, 47.31s/it]"
     ]
    },
    {
     "name": "stdout",
     "output_type": "stream",
     "text": [
      "[10] loss: 0.691 | Accuracy: 59 %\n"
     ]
    },
    {
     "name": "stderr",
     "output_type": "stream",
     "text": [
      " 22%|██▏       | 11/50 [09:12<30:40, 47.19s/it]"
     ]
    },
    {
     "name": "stdout",
     "output_type": "stream",
     "text": [
      "[11] loss: 0.651 | Accuracy: 54 %\n"
     ]
    },
    {
     "name": "stderr",
     "output_type": "stream",
     "text": [
      " 24%|██▍       | 12/50 [09:59<29:47, 47.03s/it]"
     ]
    },
    {
     "name": "stdout",
     "output_type": "stream",
     "text": [
      "[12] loss: 0.611 | Accuracy: 55 %\n"
     ]
    },
    {
     "name": "stderr",
     "output_type": "stream",
     "text": [
      " 26%|██▌       | 13/50 [10:46<28:59, 47.01s/it]"
     ]
    },
    {
     "name": "stdout",
     "output_type": "stream",
     "text": [
      "[13] loss: 0.574 | Accuracy: 57 %\n"
     ]
    },
    {
     "name": "stderr",
     "output_type": "stream",
     "text": [
      " 28%|██▊       | 14/50 [11:33<28:15, 47.09s/it]"
     ]
    },
    {
     "name": "stdout",
     "output_type": "stream",
     "text": [
      "[14] loss: 0.557 | Accuracy: 57 %\n"
     ]
    },
    {
     "name": "stderr",
     "output_type": "stream",
     "text": [
      " 30%|███       | 15/50 [12:20<27:27, 47.06s/it]"
     ]
    },
    {
     "name": "stdout",
     "output_type": "stream",
     "text": [
      "[15] loss: 0.526 | Accuracy: 56 %\n"
     ]
    },
    {
     "name": "stderr",
     "output_type": "stream",
     "text": [
      " 32%|███▏      | 16/50 [13:07<26:37, 47.00s/it]"
     ]
    },
    {
     "name": "stdout",
     "output_type": "stream",
     "text": [
      "[16] loss: 0.500 | Accuracy: 57 %\n"
     ]
    },
    {
     "name": "stderr",
     "output_type": "stream",
     "text": [
      " 34%|███▍      | 17/50 [13:54<25:50, 47.00s/it]"
     ]
    },
    {
     "name": "stdout",
     "output_type": "stream",
     "text": [
      "[17] loss: 0.465 | Accuracy: 57 %\n"
     ]
    },
    {
     "name": "stderr",
     "output_type": "stream",
     "text": [
      " 36%|███▌      | 18/50 [14:41<24:59, 46.86s/it]"
     ]
    },
    {
     "name": "stdout",
     "output_type": "stream",
     "text": [
      "[18] loss: 0.443 | Accuracy: 59 %\n"
     ]
    },
    {
     "name": "stderr",
     "output_type": "stream",
     "text": [
      " 38%|███▊      | 19/50 [15:28<24:16, 47.00s/it]"
     ]
    },
    {
     "name": "stdout",
     "output_type": "stream",
     "text": [
      "[19] loss: 0.411 | Accuracy: 55 %\n"
     ]
    },
    {
     "name": "stderr",
     "output_type": "stream",
     "text": [
      " 40%|████      | 20/50 [16:15<23:26, 46.87s/it]"
     ]
    },
    {
     "name": "stdout",
     "output_type": "stream",
     "text": [
      "[20] loss: 0.415 | Accuracy: 57 %\n"
     ]
    },
    {
     "name": "stderr",
     "output_type": "stream",
     "text": [
      " 42%|████▏     | 21/50 [17:02<22:40, 46.93s/it]"
     ]
    },
    {
     "name": "stdout",
     "output_type": "stream",
     "text": [
      "[21] loss: 0.371 | Accuracy: 58 %\n"
     ]
    },
    {
     "name": "stderr",
     "output_type": "stream",
     "text": [
      " 44%|████▍     | 22/50 [17:48<21:49, 46.77s/it]"
     ]
    },
    {
     "name": "stdout",
     "output_type": "stream",
     "text": [
      "[22] loss: 0.380 | Accuracy: 58 %\n"
     ]
    },
    {
     "name": "stderr",
     "output_type": "stream",
     "text": [
      " 46%|████▌     | 23/50 [18:35<21:07, 46.94s/it]"
     ]
    },
    {
     "name": "stdout",
     "output_type": "stream",
     "text": [
      "[23] loss: 0.332 | Accuracy: 58 %\n"
     ]
    },
    {
     "name": "stderr",
     "output_type": "stream",
     "text": [
      " 48%|████▊     | 24/50 [19:22<20:19, 46.89s/it]"
     ]
    },
    {
     "name": "stdout",
     "output_type": "stream",
     "text": [
      "[24] loss: 0.325 | Accuracy: 59 %\n"
     ]
    },
    {
     "name": "stderr",
     "output_type": "stream",
     "text": [
      " 50%|█████     | 25/50 [20:09<19:33, 46.95s/it]"
     ]
    },
    {
     "name": "stdout",
     "output_type": "stream",
     "text": [
      "[25] loss: 0.314 | Accuracy: 60 %\n"
     ]
    },
    {
     "name": "stderr",
     "output_type": "stream",
     "text": [
      " 52%|█████▏    | 26/50 [20:56<18:48, 47.00s/it]"
     ]
    },
    {
     "name": "stdout",
     "output_type": "stream",
     "text": [
      "[26] loss: 0.320 | Accuracy: 58 %\n"
     ]
    },
    {
     "name": "stderr",
     "output_type": "stream",
     "text": [
      " 54%|█████▍    | 27/50 [21:44<18:06, 47.24s/it]"
     ]
    },
    {
     "name": "stdout",
     "output_type": "stream",
     "text": [
      "[27] loss: 0.277 | Accuracy: 57 %\n"
     ]
    },
    {
     "name": "stderr",
     "output_type": "stream",
     "text": [
      " 56%|█████▌    | 28/50 [22:31<17:15, 47.07s/it]"
     ]
    },
    {
     "name": "stdout",
     "output_type": "stream",
     "text": [
      "[28] loss: 0.274 | Accuracy: 59 %\n"
     ]
    },
    {
     "name": "stderr",
     "output_type": "stream",
     "text": [
      " 58%|█████▊    | 29/50 [23:18<16:29, 47.10s/it]"
     ]
    },
    {
     "name": "stdout",
     "output_type": "stream",
     "text": [
      "[29] loss: 0.256 | Accuracy: 58 %\n"
     ]
    },
    {
     "name": "stderr",
     "output_type": "stream",
     "text": [
      " 60%|██████    | 30/50 [24:05<15:42, 47.14s/it]"
     ]
    },
    {
     "name": "stdout",
     "output_type": "stream",
     "text": [
      "[30] loss: 0.240 | Accuracy: 60 %\n"
     ]
    },
    {
     "name": "stderr",
     "output_type": "stream",
     "text": [
      " 62%|██████▏   | 31/50 [24:53<14:57, 47.22s/it]"
     ]
    },
    {
     "name": "stdout",
     "output_type": "stream",
     "text": [
      "[31] loss: 0.229 | Accuracy: 56 %\n"
     ]
    },
    {
     "name": "stderr",
     "output_type": "stream",
     "text": [
      " 64%|██████▍   | 32/50 [25:40<14:11, 47.28s/it]"
     ]
    },
    {
     "name": "stdout",
     "output_type": "stream",
     "text": [
      "[32] loss: 0.224 | Accuracy: 59 %\n"
     ]
    },
    {
     "name": "stderr",
     "output_type": "stream",
     "text": [
      " 66%|██████▌   | 33/50 [26:27<13:23, 47.25s/it]"
     ]
    },
    {
     "name": "stdout",
     "output_type": "stream",
     "text": [
      "[33] loss: 0.214 | Accuracy: 60 %\n"
     ]
    },
    {
     "name": "stderr",
     "output_type": "stream",
     "text": [
      " 68%|██████▊   | 34/50 [27:14<12:33, 47.10s/it]"
     ]
    },
    {
     "name": "stdout",
     "output_type": "stream",
     "text": [
      "[34] loss: 0.221 | Accuracy: 58 %\n"
     ]
    },
    {
     "name": "stderr",
     "output_type": "stream",
     "text": [
      " 70%|███████   | 35/50 [28:01<11:44, 46.98s/it]"
     ]
    },
    {
     "name": "stdout",
     "output_type": "stream",
     "text": [
      "[35] loss: 0.205 | Accuracy: 61 %\n"
     ]
    },
    {
     "name": "stderr",
     "output_type": "stream",
     "text": [
      " 72%|███████▏  | 36/50 [28:48<10:58, 47.01s/it]"
     ]
    },
    {
     "name": "stdout",
     "output_type": "stream",
     "text": [
      "[36] loss: 0.206 | Accuracy: 58 %\n"
     ]
    },
    {
     "name": "stderr",
     "output_type": "stream",
     "text": [
      " 74%|███████▍  | 37/50 [29:36<10:14, 47.26s/it]"
     ]
    },
    {
     "name": "stdout",
     "output_type": "stream",
     "text": [
      "[37] loss: 0.178 | Accuracy: 60 %\n"
     ]
    },
    {
     "name": "stderr",
     "output_type": "stream",
     "text": [
      " 76%|███████▌  | 38/50 [30:23<09:26, 47.22s/it]"
     ]
    },
    {
     "name": "stdout",
     "output_type": "stream",
     "text": [
      "[38] loss: 0.172 | Accuracy: 57 %\n"
     ]
    },
    {
     "name": "stderr",
     "output_type": "stream",
     "text": [
      " 78%|███████▊  | 39/50 [31:10<08:40, 47.28s/it]"
     ]
    },
    {
     "name": "stdout",
     "output_type": "stream",
     "text": [
      "[39] loss: 0.164 | Accuracy: 61 %\n"
     ]
    },
    {
     "name": "stderr",
     "output_type": "stream",
     "text": [
      " 80%|████████  | 40/50 [31:57<07:52, 47.23s/it]"
     ]
    },
    {
     "name": "stdout",
     "output_type": "stream",
     "text": [
      "[40] loss: 0.154 | Accuracy: 59 %\n"
     ]
    },
    {
     "name": "stderr",
     "output_type": "stream",
     "text": [
      " 82%|████████▏ | 41/50 [32:45<07:05, 47.32s/it]"
     ]
    },
    {
     "name": "stdout",
     "output_type": "stream",
     "text": [
      "[41] loss: 0.150 | Accuracy: 59 %\n"
     ]
    },
    {
     "name": "stderr",
     "output_type": "stream",
     "text": [
      " 84%|████████▍ | 42/50 [33:32<06:17, 47.18s/it]"
     ]
    },
    {
     "name": "stdout",
     "output_type": "stream",
     "text": [
      "[42] loss: 0.152 | Accuracy: 58 %\n"
     ]
    },
    {
     "name": "stderr",
     "output_type": "stream",
     "text": [
      " 86%|████████▌ | 43/50 [34:19<05:31, 47.29s/it]"
     ]
    },
    {
     "name": "stdout",
     "output_type": "stream",
     "text": [
      "[43] loss: 0.151 | Accuracy: 59 %\n"
     ]
    },
    {
     "name": "stderr",
     "output_type": "stream",
     "text": [
      " 88%|████████▊ | 44/50 [35:07<04:44, 47.35s/it]"
     ]
    },
    {
     "name": "stdout",
     "output_type": "stream",
     "text": [
      "[44] loss: 0.137 | Accuracy: 60 %\n"
     ]
    },
    {
     "name": "stderr",
     "output_type": "stream",
     "text": [
      " 90%|█████████ | 45/50 [35:54<03:57, 47.42s/it]"
     ]
    },
    {
     "name": "stdout",
     "output_type": "stream",
     "text": [
      "[45] loss: 0.131 | Accuracy: 60 %\n"
     ]
    },
    {
     "name": "stderr",
     "output_type": "stream",
     "text": [
      " 92%|█████████▏| 46/50 [36:42<03:09, 47.47s/it]"
     ]
    },
    {
     "name": "stdout",
     "output_type": "stream",
     "text": [
      "[46] loss: 0.125 | Accuracy: 60 %\n"
     ]
    },
    {
     "name": "stderr",
     "output_type": "stream",
     "text": [
      " 94%|█████████▍| 47/50 [37:30<02:23, 47.68s/it]"
     ]
    },
    {
     "name": "stdout",
     "output_type": "stream",
     "text": [
      "[47] loss: 0.126 | Accuracy: 60 %\n"
     ]
    },
    {
     "name": "stderr",
     "output_type": "stream",
     "text": [
      " 96%|█████████▌| 48/50 [38:17<01:35, 47.51s/it]"
     ]
    },
    {
     "name": "stdout",
     "output_type": "stream",
     "text": [
      "[48] loss: 0.119 | Accuracy: 59 %\n"
     ]
    },
    {
     "name": "stderr",
     "output_type": "stream",
     "text": [
      " 98%|█████████▊| 49/50 [39:05<00:47, 47.49s/it]"
     ]
    },
    {
     "name": "stdout",
     "output_type": "stream",
     "text": [
      "[49] loss: 0.109 | Accuracy: 60 %\n"
     ]
    },
    {
     "name": "stderr",
     "output_type": "stream",
     "text": [
      "100%|██████████| 50/50 [39:52<00:00, 47.85s/it]"
     ]
    },
    {
     "name": "stdout",
     "output_type": "stream",
     "text": [
      "[50] loss: 0.110 | Accuracy: 60 %\n",
      "Finished Training\n"
     ]
    },
    {
     "name": "stderr",
     "output_type": "stream",
     "text": [
      "\n"
     ]
    }
   ],
   "source": [
    "# Instantiate the model and move it to the GPU if available\n",
    "model = SimpleCNN()\n",
    "model = nn.DataParallel(model, device_ids=device_ids)\n",
    "model = model.cuda()\n",
    "EPOCH = 50\n",
    "# Define the loss function and the optimizer\n",
    "criterion = nn.CrossEntropyLoss()\n",
    "optimizer = optim.Adam(model.parameters(), lr=1e-6)\n",
    "\n",
    "loss_evolution = []\n",
    "accuracy_evolution = []\n",
    "\n",
    "# Training loop\n",
    "for epoch in tqdm.trange(EPOCH):\n",
    "    running_loss = 0.0\n",
    "    correct = 0\n",
    "    total = 0\n",
    "\n",
    "    for i, data in enumerate(train_dataloader, 0):\n",
    "        # get the inputs; data is a list of [inputs, labels]\n",
    "        inputs, _, labels = data\n",
    "        inputs = inputs.cuda()\n",
    "        labels = torch.tensor([animals_dict[label] for label in labels]).cuda()\n",
    "\n",
    "        # zero the parameter gradients\n",
    "        optimizer.zero_grad()\n",
    "\n",
    "        # forward + backward + optimize\n",
    "        outputs = model(inputs)\n",
    "        loss = criterion(outputs, labels)\n",
    "        loss_evolution.append(loss.item())\n",
    "        loss.backward()\n",
    "        optimizer.step()\n",
    "\n",
    "        # print statistics\n",
    "        running_loss += loss.item()\n",
    "\n",
    "    # Accuracy computation\n",
    "    with torch.no_grad():\n",
    "        for data in val_dataloader:\n",
    "            inputs, _, labels = data\n",
    "            inputs = inputs.cuda()\n",
    "            labels = torch.tensor([animals_dict[label] for label in labels]).cuda()\n",
    "            outputs = model(inputs)\n",
    "            _, predicted = torch.max(outputs.data, 1)\n",
    "            total += len(labels)\n",
    "            correct += (predicted == labels).sum().item()\n",
    "\n",
    "    accuracy_evolution.append(100 * correct / total)\n",
    "    print('[%d] loss: %.3f | Accuracy: %d %%' % (epoch + 1, running_loss / len(train_dataloader), 100 * correct / total))\n",
    "\n",
    "print('Finished Training')\n"
   ]
  },
  {
   "cell_type": "code",
   "execution_count": 15,
   "id": "9d5fb968",
   "metadata": {
    "execution": {
     "iopub.execute_input": "2024-02-15T19:39:08.042540Z",
     "iopub.status.busy": "2024-02-15T19:39:08.042215Z",
     "iopub.status.idle": "2024-02-15T19:39:08.482562Z",
     "shell.execute_reply": "2024-02-15T19:39:08.481621Z"
    },
    "papermill": {
     "duration": 0.469565,
     "end_time": "2024-02-15T19:39:08.484942",
     "exception": false,
     "start_time": "2024-02-15T19:39:08.015377",
     "status": "completed"
    },
    "tags": []
   },
   "outputs": [
    {
     "data": {
      "image/png": "[encoded data removed]",
      "text/plain": [
       "<Figure size 640x480 with 1 Axes>"
      ]
     },
     "metadata": {},
     "output_type": "display_data"
    },
    {
     "data": {
      "image/png": "[encoded data removed]",
      "text/plain": [
       "<Figure size 640x480 with 1 Axes>"
      ]
     },
     "metadata": {},
     "output_type": "display_data"
    }
   ],
   "source": [
    "# Plot the loss evolution\n",
    "plt.plot(loss_evolution)\n",
    "plt.title('Loss evolution')\n",
    "plt.xlabel('Batch')\n",
    "plt.ylabel('Loss')\n",
    "plt.show()\n",
    "\n",
    "# Plot the accuracy evolution\n",
    "plt.plot(accuracy_evolution)\n",
    "plt.title('Accuracy evolution')\n",
    "plt.xlabel('Epoch')\n",
    "plt.ylabel('Accuracy')\n",
    "plt.show()\n",
    "\n",
    "# Save the model\n",
    "torch.save(model.state_dict(), 'simple_cnn.pth')"
   ]
  },
  {
   "cell_type": "markdown",
   "id": "18cb7804",
   "metadata": {
    "papermill": {
     "duration": 0.029435,
     "end_time": "2024-02-15T19:39:08.544434",
     "exception": false,
     "start_time": "2024-02-15T19:39:08.514999",
     "status": "completed"
    },
    "tags": []
   },
   "source": [
    "## Other models"
   ]
  },
  {
   "cell_type": "code",
   "execution_count": 16,
   "id": "23276f82",
   "metadata": {
    "execution": {
     "iopub.execute_input": "2024-02-15T19:39:08.601953Z",
     "iopub.status.busy": "2024-02-15T19:39:08.601033Z",
     "iopub.status.idle": "2024-02-15T19:39:08.617397Z",
     "shell.execute_reply": "2024-02-15T19:39:08.616461Z"
    },
    "papermill": {
     "duration": 0.04764,
     "end_time": "2024-02-15T19:39:08.619741",
     "exception": false,
     "start_time": "2024-02-15T19:39:08.572101",
     "status": "completed"
    },
    "tags": []
   },
   "outputs": [],
   "source": [
    "torch.cuda.empty_cache()"
   ]
  },
  {
   "cell_type": "code",
   "execution_count": 17,
   "id": "30634d38",
   "metadata": {
    "execution": {
     "iopub.execute_input": "2024-02-15T19:39:08.688735Z",
     "iopub.status.busy": "2024-02-15T19:39:08.688431Z",
     "iopub.status.idle": "2024-02-15T19:39:25.852868Z",
     "shell.execute_reply": "2024-02-15T19:39:25.851700Z"
    },
    "papermill": {
     "duration": 17.200518,
     "end_time": "2024-02-15T19:39:25.855538",
     "exception": false,
     "start_time": "2024-02-15T19:39:08.655020",
     "status": "completed"
    },
    "tags": []
   },
   "outputs": [
    {
     "name": "stdout",
     "output_type": "stream",
     "text": [
      "Collecting efficientnet_pytorch\r\n",
      "  Downloading efficientnet_pytorch-0.7.1.tar.gz (21 kB)\r\n",
      "  Preparing metadata (setup.py) ... \u001b[?25l-\b \bdone\r\n",
      "\u001b[?25hRequirement already satisfied: torch in /opt/conda/lib/python3.10/site-packages (from efficientnet_pytorch) (2.1.2)\r\n",
      "Requirement already satisfied: filelock in /opt/conda/lib/python3.10/site-packages (from torch->efficientnet_pytorch) (3.13.1)\r\n",
      "Requirement already satisfied: typing-extensions in /opt/conda/lib/python3.10/site-packages (from torch->efficientnet_pytorch) (4.9.0)\r\n",
      "Requirement already satisfied: sympy in /opt/conda/lib/python3.10/site-packages (from torch->efficientnet_pytorch) (1.12)\r\n",
      "Requirement already satisfied: networkx in /opt/conda/lib/python3.10/site-packages (from torch->efficientnet_pytorch) (3.2.1)\r\n",
      "Requirement already satisfied: jinja2 in /opt/conda/lib/python3.10/site-packages (from torch->efficientnet_pytorch) (3.1.2)\r\n",
      "Requirement already satisfied: fsspec in /opt/conda/lib/python3.10/site-packages (from torch->efficientnet_pytorch) (2023.12.2)\r\n",
      "Requirement already satisfied: MarkupSafe>=2.0 in /opt/conda/lib/python3.10/site-packages (from jinja2->torch->efficientnet_pytorch) (2.1.3)\r\n",
      "Requirement already satisfied: mpmath>=0.19 in /opt/conda/lib/python3.10/site-packages (from sympy->torch->efficientnet_pytorch) (1.3.0)\r\n",
      "Building wheels for collected packages: efficientnet_pytorch\r\n",
      "  Building wheel for efficientnet_pytorch (setup.py) ... \u001b[?25l-\b \bdone\r\n",
      "\u001b[?25h  Created wheel for efficientnet_pytorch: filename=efficientnet_pytorch-0.7.1-py3-none-any.whl size=16428 sha256=edda4823d940699e64d5f0701e64a26497f15d4c382990b8c013fdaa4e3c617b\r\n",
      "  Stored in directory: /root/.cache/pip/wheels/03/3f/e9/911b1bc46869644912bda90a56bcf7b960f20b5187feea3baf\r\n",
      "Successfully built efficientnet_pytorch\r\n",
      "Installing collected packages: efficientnet_pytorch\r\n",
      "Successfully installed efficientnet_pytorch-0.7.1\r\n"
     ]
    }
   ],
   "source": [
    "!pip install efficientnet_pytorch"
   ]
  },
  {
   "cell_type": "code",
   "execution_count": 18,
   "id": "00a9fbc7",
   "metadata": {
    "execution": {
     "iopub.execute_input": "2024-02-15T19:39:25.915250Z",
     "iopub.status.busy": "2024-02-15T19:39:25.914915Z",
     "iopub.status.idle": "2024-02-15T19:39:27.781244Z",
     "shell.execute_reply": "2024-02-15T19:39:27.780361Z"
    },
    "papermill": {
     "duration": 1.898093,
     "end_time": "2024-02-15T19:39:27.783421",
     "exception": false,
     "start_time": "2024-02-15T19:39:25.885328",
     "status": "completed"
    },
    "tags": []
   },
   "outputs": [
    {
     "name": "stderr",
     "output_type": "stream",
     "text": [
      "Downloading: \"https://github.com/lukemelas/EfficientNet-PyTorch/releases/download/1.0/efficientnet-b0-355c32eb.pth\" to /root/.cache/torch/hub/checkpoints/efficientnet-b0-355c32eb.pth\n",
      "100%|██████████| 20.4M/20.4M [00:00<00:00, 150MB/s] \n",
      "/opt/conda/lib/python3.10/site-packages/torchvision/models/_utils.py:208: UserWarning: The parameter 'pretrained' is deprecated since 0.13 and may be removed in the future, please use 'weights' instead.\n",
      "  warnings.warn(\n",
      "/opt/conda/lib/python3.10/site-packages/torchvision/models/_utils.py:223: UserWarning: Arguments other than a weight enum or `None` for 'weights' are deprecated since 0.13 and may be removed in the future. The current behavior is equivalent to passing `weights=ResNet50_Weights.IMAGENET1K_V1`. You can also use `weights=ResNet50_Weights.DEFAULT` to get the most up-to-date weights.\n",
      "  warnings.warn(msg)\n"
     ]
    },
    {
     "name": "stdout",
     "output_type": "stream",
     "text": [
      "Loaded pretrained weights for efficientnet-b0\n"
     ]
    },
    {
     "name": "stderr",
     "output_type": "stream",
     "text": [
      "Downloading: \"https://download.pytorch.org/models/resnet50-0676ba61.pth\" to /root/.cache/torch/hub/checkpoints/resnet50-0676ba61.pth\n",
      "100%|██████████| 97.8M/97.8M [00:00<00:00, 162MB/s]\n"
     ]
    }
   ],
   "source": [
    "# Importer les modèles nécessaires de torchaudio\n",
    "# resnet 50, resnet 101\n",
    "from torchvision.models import resnet50\n",
    "# efficientnet b0\n",
    "from efficientnet_pytorch import EfficientNet \n",
    "\n",
    "model_efficientnet = EfficientNet.from_pretrained('efficientnet-b0')\n",
    "model_resnet50 = resnet50(pretrained=True)\n",
    "num_classes = 3"
   ]
  },
  {
   "cell_type": "markdown",
   "id": "4208351d",
   "metadata": {
    "papermill": {
     "duration": 0.028715,
     "end_time": "2024-02-15T19:39:27.841722",
     "exception": false,
     "start_time": "2024-02-15T19:39:27.813007",
     "status": "completed"
    },
    "tags": []
   },
   "source": [
    "### RESNET50"
   ]
  },
  {
   "cell_type": "code",
   "execution_count": 19,
   "id": "aa4b8416",
   "metadata": {
    "execution": {
     "iopub.execute_input": "2024-02-15T19:39:27.901918Z",
     "iopub.status.busy": "2024-02-15T19:39:27.901413Z",
     "iopub.status.idle": "2024-02-15T20:30:44.301219Z",
     "shell.execute_reply": "2024-02-15T20:30:44.300260Z"
    },
    "papermill": {
     "duration": 3076.470631,
     "end_time": "2024-02-15T20:30:44.341532",
     "exception": false,
     "start_time": "2024-02-15T19:39:27.870901",
     "status": "completed"
    },
    "tags": []
   },
   "outputs": [
    {
     "name": "stderr",
     "output_type": "stream",
     "text": [
      "  2%|▏         | 1/50 [01:02<51:10, 62.67s/it]"
     ]
    },
    {
     "name": "stdout",
     "output_type": "stream",
     "text": [
      "[1] loss: 1.179 | Accuracy: 30 %\n"
     ]
    },
    {
     "name": "stderr",
     "output_type": "stream",
     "text": [
      "  4%|▍         | 2/50 [02:04<49:55, 62.40s/it]"
     ]
    },
    {
     "name": "stdout",
     "output_type": "stream",
     "text": [
      "[2] loss: 1.120 | Accuracy: 32 %\n"
     ]
    },
    {
     "name": "stderr",
     "output_type": "stream",
     "text": [
      "  6%|▌         | 3/50 [03:07<48:53, 62.42s/it]"
     ]
    },
    {
     "name": "stdout",
     "output_type": "stream",
     "text": [
      "[3] loss: 1.070 | Accuracy: 32 %\n"
     ]
    },
    {
     "name": "stderr",
     "output_type": "stream",
     "text": [
      "  8%|▊         | 4/50 [04:09<47:47, 62.33s/it]"
     ]
    },
    {
     "name": "stdout",
     "output_type": "stream",
     "text": [
      "[4] loss: 1.031 | Accuracy: 36 %\n"
     ]
    },
    {
     "name": "stderr",
     "output_type": "stream",
     "text": [
      " 10%|█         | 5/50 [05:11<46:47, 62.38s/it]"
     ]
    },
    {
     "name": "stdout",
     "output_type": "stream",
     "text": [
      "[5] loss: 0.986 | Accuracy: 42 %\n"
     ]
    },
    {
     "name": "stderr",
     "output_type": "stream",
     "text": [
      " 12%|█▏        | 6/50 [06:14<45:42, 62.34s/it]"
     ]
    },
    {
     "name": "stdout",
     "output_type": "stream",
     "text": [
      "[6] loss: 0.940 | Accuracy: 45 %\n"
     ]
    },
    {
     "name": "stderr",
     "output_type": "stream",
     "text": [
      " 14%|█▍        | 7/50 [07:16<44:34, 62.19s/it]"
     ]
    },
    {
     "name": "stdout",
     "output_type": "stream",
     "text": [
      "[7] loss: 0.910 | Accuracy: 50 %\n"
     ]
    },
    {
     "name": "stderr",
     "output_type": "stream",
     "text": [
      " 16%|█▌        | 8/50 [08:17<43:25, 62.03s/it]"
     ]
    },
    {
     "name": "stdout",
     "output_type": "stream",
     "text": [
      "[8] loss: 0.876 | Accuracy: 57 %\n"
     ]
    },
    {
     "name": "stderr",
     "output_type": "stream",
     "text": [
      " 18%|█▊        | 9/50 [09:19<42:13, 61.80s/it]"
     ]
    },
    {
     "name": "stdout",
     "output_type": "stream",
     "text": [
      "[9] loss: 0.851 | Accuracy: 56 %\n"
     ]
    },
    {
     "name": "stderr",
     "output_type": "stream",
     "text": [
      " 20%|██        | 10/50 [10:20<41:07, 61.70s/it]"
     ]
    },
    {
     "name": "stdout",
     "output_type": "stream",
     "text": [
      "[10] loss: 0.829 | Accuracy: 60 %\n"
     ]
    },
    {
     "name": "stderr",
     "output_type": "stream",
     "text": [
      " 22%|██▏       | 11/50 [11:21<40:02, 61.60s/it]"
     ]
    },
    {
     "name": "stdout",
     "output_type": "stream",
     "text": [
      "[11] loss: 0.812 | Accuracy: 61 %\n"
     ]
    },
    {
     "name": "stderr",
     "output_type": "stream",
     "text": [
      " 24%|██▍       | 12/50 [12:23<39:02, 61.64s/it]"
     ]
    },
    {
     "name": "stdout",
     "output_type": "stream",
     "text": [
      "[12] loss: 0.775 | Accuracy: 65 %\n"
     ]
    },
    {
     "name": "stderr",
     "output_type": "stream",
     "text": [
      " 26%|██▌       | 13/50 [13:25<37:57, 61.56s/it]"
     ]
    },
    {
     "name": "stdout",
     "output_type": "stream",
     "text": [
      "[13] loss: 0.754 | Accuracy: 65 %\n"
     ]
    },
    {
     "name": "stderr",
     "output_type": "stream",
     "text": [
      " 28%|██▊       | 14/50 [14:26<36:55, 61.55s/it]"
     ]
    },
    {
     "name": "stdout",
     "output_type": "stream",
     "text": [
      "[14] loss: 0.735 | Accuracy: 65 %\n"
     ]
    },
    {
     "name": "stderr",
     "output_type": "stream",
     "text": [
      " 30%|███       | 15/50 [15:28<36:01, 61.76s/it]"
     ]
    },
    {
     "name": "stdout",
     "output_type": "stream",
     "text": [
      "[15] loss: 0.731 | Accuracy: 67 %\n"
     ]
    },
    {
     "name": "stderr",
     "output_type": "stream",
     "text": [
      " 32%|███▏      | 16/50 [16:29<34:53, 61.57s/it]"
     ]
    },
    {
     "name": "stdout",
     "output_type": "stream",
     "text": [
      "[16] loss: 0.718 | Accuracy: 65 %\n"
     ]
    },
    {
     "name": "stderr",
     "output_type": "stream",
     "text": [
      " 34%|███▍      | 17/50 [17:31<33:53, 61.63s/it]"
     ]
    },
    {
     "name": "stdout",
     "output_type": "stream",
     "text": [
      "[17] loss: 0.714 | Accuracy: 65 %\n"
     ]
    },
    {
     "name": "stderr",
     "output_type": "stream",
     "text": [
      " 36%|███▌      | 18/50 [18:33<32:58, 61.81s/it]"
     ]
    },
    {
     "name": "stdout",
     "output_type": "stream",
     "text": [
      "[18] loss: 0.680 | Accuracy: 72 %\n"
     ]
    },
    {
     "name": "stderr",
     "output_type": "stream",
     "text": [
      " 38%|███▊      | 19/50 [19:35<31:57, 61.85s/it]"
     ]
    },
    {
     "name": "stdout",
     "output_type": "stream",
     "text": [
      "[19] loss: 0.670 | Accuracy: 61 %\n"
     ]
    },
    {
     "name": "stderr",
     "output_type": "stream",
     "text": [
      " 40%|████      | 20/50 [20:37<30:52, 61.76s/it]"
     ]
    },
    {
     "name": "stdout",
     "output_type": "stream",
     "text": [
      "[20] loss: 0.675 | Accuracy: 67 %\n"
     ]
    },
    {
     "name": "stderr",
     "output_type": "stream",
     "text": [
      " 42%|████▏     | 21/50 [21:38<29:46, 61.61s/it]"
     ]
    },
    {
     "name": "stdout",
     "output_type": "stream",
     "text": [
      "[21] loss: 0.656 | Accuracy: 70 %\n"
     ]
    },
    {
     "name": "stderr",
     "output_type": "stream",
     "text": [
      " 44%|████▍     | 22/50 [22:40<28:43, 61.56s/it]"
     ]
    },
    {
     "name": "stdout",
     "output_type": "stream",
     "text": [
      "[22] loss: 0.649 | Accuracy: 66 %\n"
     ]
    },
    {
     "name": "stderr",
     "output_type": "stream",
     "text": [
      " 46%|████▌     | 23/50 [23:41<27:40, 61.49s/it]"
     ]
    },
    {
     "name": "stdout",
     "output_type": "stream",
     "text": [
      "[23] loss: 0.655 | Accuracy: 67 %\n"
     ]
    },
    {
     "name": "stderr",
     "output_type": "stream",
     "text": [
      " 48%|████▊     | 24/50 [24:43<26:44, 61.73s/it]"
     ]
    },
    {
     "name": "stdout",
     "output_type": "stream",
     "text": [
      "[24] loss: 0.628 | Accuracy: 71 %\n"
     ]
    },
    {
     "name": "stderr",
     "output_type": "stream",
     "text": [
      " 50%|█████     | 25/50 [25:45<25:42, 61.71s/it]"
     ]
    },
    {
     "name": "stdout",
     "output_type": "stream",
     "text": [
      "[25] loss: 0.624 | Accuracy: 70 %\n"
     ]
    },
    {
     "name": "stderr",
     "output_type": "stream",
     "text": [
      " 52%|█████▏    | 26/50 [26:47<24:42, 61.77s/it]"
     ]
    },
    {
     "name": "stdout",
     "output_type": "stream",
     "text": [
      "[26] loss: 0.601 | Accuracy: 68 %\n"
     ]
    },
    {
     "name": "stderr",
     "output_type": "stream",
     "text": [
      " 54%|█████▍    | 27/50 [27:49<23:44, 61.96s/it]"
     ]
    },
    {
     "name": "stdout",
     "output_type": "stream",
     "text": [
      "[27] loss: 0.598 | Accuracy: 69 %\n"
     ]
    },
    {
     "name": "stderr",
     "output_type": "stream",
     "text": [
      " 56%|█████▌    | 28/50 [28:50<22:36, 61.66s/it]"
     ]
    },
    {
     "name": "stdout",
     "output_type": "stream",
     "text": [
      "[28] loss: 0.597 | Accuracy: 72 %\n"
     ]
    },
    {
     "name": "stderr",
     "output_type": "stream",
     "text": [
      " 58%|█████▊    | 29/50 [29:51<21:29, 61.42s/it]"
     ]
    },
    {
     "name": "stdout",
     "output_type": "stream",
     "text": [
      "[29] loss: 0.595 | Accuracy: 71 %\n"
     ]
    },
    {
     "name": "stderr",
     "output_type": "stream",
     "text": [
      " 60%|██████    | 30/50 [30:53<20:28, 61.44s/it]"
     ]
    },
    {
     "name": "stdout",
     "output_type": "stream",
     "text": [
      "[30] loss: 0.584 | Accuracy: 73 %\n"
     ]
    },
    {
     "name": "stderr",
     "output_type": "stream",
     "text": [
      " 62%|██████▏   | 31/50 [31:54<19:26, 61.40s/it]"
     ]
    },
    {
     "name": "stdout",
     "output_type": "stream",
     "text": [
      "[31] loss: 0.564 | Accuracy: 72 %\n"
     ]
    },
    {
     "name": "stderr",
     "output_type": "stream",
     "text": [
      " 64%|██████▍   | 32/50 [32:55<18:24, 61.39s/it]"
     ]
    },
    {
     "name": "stdout",
     "output_type": "stream",
     "text": [
      "[32] loss: 0.563 | Accuracy: 72 %\n"
     ]
    },
    {
     "name": "stderr",
     "output_type": "stream",
     "text": [
      " 66%|██████▌   | 33/50 [33:56<17:21, 61.27s/it]"
     ]
    },
    {
     "name": "stdout",
     "output_type": "stream",
     "text": [
      "[33] loss: 0.540 | Accuracy: 71 %\n"
     ]
    },
    {
     "name": "stderr",
     "output_type": "stream",
     "text": [
      " 68%|██████▊   | 34/50 [34:57<16:19, 61.20s/it]"
     ]
    },
    {
     "name": "stdout",
     "output_type": "stream",
     "text": [
      "[34] loss: 0.556 | Accuracy: 77 %\n"
     ]
    },
    {
     "name": "stderr",
     "output_type": "stream",
     "text": [
      " 70%|███████   | 35/50 [35:58<15:15, 61.05s/it]"
     ]
    },
    {
     "name": "stdout",
     "output_type": "stream",
     "text": [
      "[35] loss: 0.530 | Accuracy: 70 %\n"
     ]
    },
    {
     "name": "stderr",
     "output_type": "stream",
     "text": [
      " 72%|███████▏  | 36/50 [36:59<14:14, 61.02s/it]"
     ]
    },
    {
     "name": "stdout",
     "output_type": "stream",
     "text": [
      "[36] loss: 0.542 | Accuracy: 73 %\n"
     ]
    },
    {
     "name": "stderr",
     "output_type": "stream",
     "text": [
      " 74%|███████▍  | 37/50 [38:00<13:14, 61.13s/it]"
     ]
    },
    {
     "name": "stdout",
     "output_type": "stream",
     "text": [
      "[37] loss: 0.539 | Accuracy: 73 %\n"
     ]
    },
    {
     "name": "stderr",
     "output_type": "stream",
     "text": [
      " 76%|███████▌  | 38/50 [39:01<12:13, 61.09s/it]"
     ]
    },
    {
     "name": "stdout",
     "output_type": "stream",
     "text": [
      "[38] loss: 0.494 | Accuracy: 75 %\n"
     ]
    },
    {
     "name": "stderr",
     "output_type": "stream",
     "text": [
      " 78%|███████▊  | 39/50 [40:02<11:11, 61.07s/it]"
     ]
    },
    {
     "name": "stdout",
     "output_type": "stream",
     "text": [
      "[39] loss: 0.496 | Accuracy: 71 %\n"
     ]
    },
    {
     "name": "stderr",
     "output_type": "stream",
     "text": [
      " 80%|████████  | 40/50 [41:04<10:11, 61.13s/it]"
     ]
    },
    {
     "name": "stdout",
     "output_type": "stream",
     "text": [
      "[40] loss: 0.479 | Accuracy: 72 %\n"
     ]
    },
    {
     "name": "stderr",
     "output_type": "stream",
     "text": [
      " 82%|████████▏ | 41/50 [42:05<09:10, 61.13s/it]"
     ]
    },
    {
     "name": "stdout",
     "output_type": "stream",
     "text": [
      "[41] loss: 0.487 | Accuracy: 73 %\n"
     ]
    },
    {
     "name": "stderr",
     "output_type": "stream",
     "text": [
      " 84%|████████▍ | 42/50 [43:05<08:07, 60.99s/it]"
     ]
    },
    {
     "name": "stdout",
     "output_type": "stream",
     "text": [
      "[42] loss: 0.492 | Accuracy: 72 %\n"
     ]
    },
    {
     "name": "stderr",
     "output_type": "stream",
     "text": [
      " 86%|████████▌ | 43/50 [44:07<07:09, 61.29s/it]"
     ]
    },
    {
     "name": "stdout",
     "output_type": "stream",
     "text": [
      "[43] loss: 0.458 | Accuracy: 74 %\n"
     ]
    },
    {
     "name": "stderr",
     "output_type": "stream",
     "text": [
      " 88%|████████▊ | 44/50 [45:10<06:09, 61.62s/it]"
     ]
    },
    {
     "name": "stdout",
     "output_type": "stream",
     "text": [
      "[44] loss: 0.471 | Accuracy: 72 %\n"
     ]
    },
    {
     "name": "stderr",
     "output_type": "stream",
     "text": [
      " 90%|█████████ | 45/50 [46:10<05:06, 61.35s/it]"
     ]
    },
    {
     "name": "stdout",
     "output_type": "stream",
     "text": [
      "[45] loss: 0.456 | Accuracy: 69 %\n"
     ]
    },
    {
     "name": "stderr",
     "output_type": "stream",
     "text": [
      " 92%|█████████▏| 46/50 [47:12<04:05, 61.32s/it]"
     ]
    },
    {
     "name": "stdout",
     "output_type": "stream",
     "text": [
      "[46] loss: 0.453 | Accuracy: 70 %\n"
     ]
    },
    {
     "name": "stderr",
     "output_type": "stream",
     "text": [
      " 94%|█████████▍| 47/50 [48:13<03:04, 61.43s/it]"
     ]
    },
    {
     "name": "stdout",
     "output_type": "stream",
     "text": [
      "[47] loss: 0.428 | Accuracy: 72 %\n"
     ]
    },
    {
     "name": "stderr",
     "output_type": "stream",
     "text": [
      " 96%|█████████▌| 48/50 [49:14<02:02, 61.07s/it]"
     ]
    },
    {
     "name": "stdout",
     "output_type": "stream",
     "text": [
      "[48] loss: 0.432 | Accuracy: 74 %\n"
     ]
    },
    {
     "name": "stderr",
     "output_type": "stream",
     "text": [
      " 98%|█████████▊| 49/50 [50:15<01:01, 61.01s/it]"
     ]
    },
    {
     "name": "stdout",
     "output_type": "stream",
     "text": [
      "[49] loss: 0.425 | Accuracy: 75 %\n"
     ]
    },
    {
     "name": "stderr",
     "output_type": "stream",
     "text": [
      "100%|██████████| 50/50 [51:16<00:00, 61.53s/it]"
     ]
    },
    {
     "name": "stdout",
     "output_type": "stream",
     "text": [
      "[50] loss: 0.413 | Accuracy: 72 %\n"
     ]
    },
    {
     "name": "stderr",
     "output_type": "stream",
     "text": [
      "\n"
     ]
    }
   ],
   "source": [
    "# Modify the first convolution layer to accept 1 channel instead of 3\n",
    "model_resnet50.conv1 = nn.Conv2d(1, 64, kernel_size=7, stride=2, padding=3, bias=False)\n",
    "# Modify the fully connected layer for your specific task\n",
    "model_resnet50.fc = nn.Linear(2048, num_classes)\n",
    "\n",
    "model = model_resnet50\n",
    "model = nn.DataParallel(model, device_ids=device_ids)\n",
    "model = model.cuda()\n",
    "\n",
    "# Define the loss function and the optimizer\n",
    "criterion = nn.CrossEntropyLoss()\n",
    "optimizer = optim.Adam(model.parameters(), lr=1e-6)\n",
    "\n",
    "# Training loop\n",
    "EPOCH = 50\n",
    "\n",
    "loss_evolution = []\n",
    "accuracy_evolution = []\n",
    "\n",
    "for epoch in tqdm.trange(EPOCH):\n",
    "    running_loss = 0.0\n",
    "    correct = 0\n",
    "    total = 0\n",
    "\n",
    "    for i, data in enumerate(train_dataloader, 0):\n",
    "        # get the inputs; data is a list of [inputs, labels]\n",
    "        inputs, _, labels = data\n",
    "        inputs = inputs.cuda()\n",
    "        inputs = inputs.unsqueeze(1)\n",
    "        labels = torch.tensor([animals_dict[label] for label in labels]).cuda()\n",
    "\n",
    "        # Transform inputs from tensor of size torch.Size([32, 40, 3001]) to tensor of size torch.Size([32, 3, 40, 3001]) following RVB format\n",
    "        #inputs = torch.stack([inputs, inputs, inputs], dim=1)\n",
    "        \n",
    "        # zero the parameter gradients\n",
    "        optimizer.zero_grad()\n",
    "        \n",
    "\n",
    "        # forward + backward + optimize\n",
    "        outputs = model(inputs)\n",
    "\n",
    "        loss = criterion(outputs, labels)\n",
    "        loss_evolution.append(loss.item())\n",
    "        loss.backward()\n",
    "        optimizer.step()\n",
    "\n",
    "        # print statistics\n",
    "        running_loss += loss.item()\n",
    "        \n",
    "\n",
    "    # Accuracy computation\n",
    "    with torch.no_grad():\n",
    "        for data in val_dataloader:\n",
    "            inputs, _, labels = data\n",
    "            inputs = inputs.cuda()\n",
    "            inputs = inputs.unsqueeze(1)\n",
    "            labels = torch.tensor([animals_dict[label] for label in labels]).cuda()\n",
    "            #inputs = torch.stack([inputs, inputs, inputs], dim=1)\n",
    "            outputs = model(inputs)\n",
    "            _, predicted = torch.max(outputs.data, 1)\n",
    "            total += len(labels)\n",
    "            correct += (predicted == labels).sum().item()\n",
    "            \n",
    "\n",
    "    accuracy_evolution.append(100 * correct / total)\n",
    "    print('[%d] loss: %.3f | Accuracy: %d %%' % (epoch + 1, running_loss / len(train_dataloader), 100 * correct / total))"
   ]
  },
  {
   "cell_type": "code",
   "execution_count": 20,
   "id": "ac69b9ed",
   "metadata": {
    "execution": {
     "iopub.execute_input": "2024-02-15T20:30:44.416843Z",
     "iopub.status.busy": "2024-02-15T20:30:44.416520Z",
     "iopub.status.idle": "2024-02-15T20:30:44.965588Z",
     "shell.execute_reply": "2024-02-15T20:30:44.964795Z"
    },
    "papermill": {
     "duration": 0.590032,
     "end_time": "2024-02-15T20:30:44.967970",
     "exception": false,
     "start_time": "2024-02-15T20:30:44.377938",
     "status": "completed"
    },
    "tags": []
   },
   "outputs": [
    {
     "data": {
      "image/png": "[encoded data removed]",
      "text/plain": [
       "<Figure size 640x480 with 1 Axes>"
      ]
     },
     "metadata": {},
     "output_type": "display_data"
    },
    {
     "data": {
      "image/png": "[encoded data removed]",
      "text/plain": [
       "<Figure size 640x480 with 1 Axes>"
      ]
     },
     "metadata": {},
     "output_type": "display_data"
    }
   ],
   "source": [
    "# Plot the loss evolution\n",
    "plt.plot(loss_evolution)\n",
    "plt.title('Loss evolution')\n",
    "plt.xlabel('Batch')\n",
    "plt.ylabel('Loss')\n",
    "plt.show()\n",
    "\n",
    "# Plot the accuracy evolution\n",
    "plt.plot(accuracy_evolution)\n",
    "plt.title('Accuracy evolution')\n",
    "plt.xlabel('Epoch')\n",
    "plt.ylabel('Accuracy')\n",
    "plt.show()\n",
    "\n",
    "# Save the model\n",
    "torch.save(model.state_dict(), 'resnet50_model.pth')"
   ]
  },
  {
   "cell_type": "markdown",
   "id": "257d186e",
   "metadata": {
    "papermill": {
     "duration": 0.037023,
     "end_time": "2024-02-15T20:30:45.044086",
     "exception": false,
     "start_time": "2024-02-15T20:30:45.007063",
     "status": "completed"
    },
    "tags": []
   },
   "source": [
    "### EFFICIENTNETB0"
   ]
  },
  {
   "cell_type": "code",
   "execution_count": 21,
   "id": "6b446523",
   "metadata": {
    "execution": {
     "iopub.execute_input": "2024-02-15T20:30:45.121026Z",
     "iopub.status.busy": "2024-02-15T20:30:45.120248Z",
     "iopub.status.idle": "2024-02-15T20:30:45.247391Z",
     "shell.execute_reply": "2024-02-15T20:30:45.246489Z"
    },
    "papermill": {
     "duration": 0.167975,
     "end_time": "2024-02-15T20:30:45.249266",
     "exception": false,
     "start_time": "2024-02-15T20:30:45.081291",
     "status": "completed"
    },
    "tags": []
   },
   "outputs": [],
   "source": [
    "torch.cuda.empty_cache()"
   ]
  },
  {
   "cell_type": "code",
   "execution_count": 22,
   "id": "380865c6",
   "metadata": {
    "execution": {
     "iopub.execute_input": "2024-02-15T20:30:45.325381Z",
     "iopub.status.busy": "2024-02-15T20:30:45.324894Z",
     "iopub.status.idle": "2024-02-15T20:58:31.549357Z",
     "shell.execute_reply": "2024-02-15T20:58:31.548390Z"
    },
    "papermill": {
     "duration": 1666.310165,
     "end_time": "2024-02-15T20:58:31.596679",
     "exception": false,
     "start_time": "2024-02-15T20:30:45.286514",
     "status": "completed"
    },
    "tags": []
   },
   "outputs": [
    {
     "name": "stdout",
     "output_type": "stream",
     "text": [
      "Loaded pretrained weights for efficientnet-b0\n"
     ]
    },
    {
     "name": "stderr",
     "output_type": "stream",
     "text": [
      "  3%|▎         | 1/30 [00:55<27:01, 55.91s/it]"
     ]
    },
    {
     "name": "stdout",
     "output_type": "stream",
     "text": [
      "[1] loss: 1.098 | Accuracy: 40 %\n"
     ]
    },
    {
     "name": "stderr",
     "output_type": "stream",
     "text": [
      "  7%|▋         | 2/30 [01:51<25:54, 55.52s/it]"
     ]
    },
    {
     "name": "stdout",
     "output_type": "stream",
     "text": [
      "[2] loss: 1.055 | Accuracy: 52 %\n"
     ]
    },
    {
     "name": "stderr",
     "output_type": "stream",
     "text": [
      " 10%|█         | 3/30 [02:46<24:55, 55.37s/it]"
     ]
    },
    {
     "name": "stdout",
     "output_type": "stream",
     "text": [
      "[3] loss: 1.014 | Accuracy: 60 %\n"
     ]
    },
    {
     "name": "stderr",
     "output_type": "stream",
     "text": [
      " 13%|█▎        | 4/30 [03:41<24:00, 55.41s/it]"
     ]
    },
    {
     "name": "stdout",
     "output_type": "stream",
     "text": [
      "[4] loss: 0.976 | Accuracy: 62 %\n"
     ]
    },
    {
     "name": "stderr",
     "output_type": "stream",
     "text": [
      " 17%|█▋        | 5/30 [04:37<23:06, 55.44s/it]"
     ]
    },
    {
     "name": "stdout",
     "output_type": "stream",
     "text": [
      "[5] loss: 0.943 | Accuracy: 67 %\n"
     ]
    },
    {
     "name": "stderr",
     "output_type": "stream",
     "text": [
      " 20%|██        | 6/30 [05:32<22:11, 55.46s/it]"
     ]
    },
    {
     "name": "stdout",
     "output_type": "stream",
     "text": [
      "[6] loss: 0.899 | Accuracy: 61 %\n"
     ]
    },
    {
     "name": "stderr",
     "output_type": "stream",
     "text": [
      " 23%|██▎       | 7/30 [06:28<21:19, 55.62s/it]"
     ]
    },
    {
     "name": "stdout",
     "output_type": "stream",
     "text": [
      "[7] loss: 0.857 | Accuracy: 64 %\n"
     ]
    },
    {
     "name": "stderr",
     "output_type": "stream",
     "text": [
      " 27%|██▋       | 8/30 [07:24<20:24, 55.64s/it]"
     ]
    },
    {
     "name": "stdout",
     "output_type": "stream",
     "text": [
      "[8] loss: 0.831 | Accuracy: 66 %\n"
     ]
    },
    {
     "name": "stderr",
     "output_type": "stream",
     "text": [
      " 30%|███       | 9/30 [08:19<19:25, 55.51s/it]"
     ]
    },
    {
     "name": "stdout",
     "output_type": "stream",
     "text": [
      "[9] loss: 0.812 | Accuracy: 62 %\n"
     ]
    },
    {
     "name": "stderr",
     "output_type": "stream",
     "text": [
      " 33%|███▎      | 10/30 [09:14<18:28, 55.43s/it]"
     ]
    },
    {
     "name": "stdout",
     "output_type": "stream",
     "text": [
      "[10] loss: 0.777 | Accuracy: 68 %\n"
     ]
    },
    {
     "name": "stderr",
     "output_type": "stream",
     "text": [
      " 37%|███▋      | 11/30 [10:11<17:37, 55.63s/it]"
     ]
    },
    {
     "name": "stdout",
     "output_type": "stream",
     "text": [
      "[11] loss: 0.768 | Accuracy: 65 %\n"
     ]
    },
    {
     "name": "stderr",
     "output_type": "stream",
     "text": [
      " 40%|████      | 12/30 [11:06<16:41, 55.62s/it]"
     ]
    },
    {
     "name": "stdout",
     "output_type": "stream",
     "text": [
      "[12] loss: 0.739 | Accuracy: 70 %\n"
     ]
    },
    {
     "name": "stderr",
     "output_type": "stream",
     "text": [
      " 43%|████▎     | 13/30 [12:02<15:47, 55.74s/it]"
     ]
    },
    {
     "name": "stdout",
     "output_type": "stream",
     "text": [
      "[13] loss: 0.706 | Accuracy: 68 %\n"
     ]
    },
    {
     "name": "stderr",
     "output_type": "stream",
     "text": [
      " 47%|████▋     | 14/30 [12:58<14:53, 55.82s/it]"
     ]
    },
    {
     "name": "stdout",
     "output_type": "stream",
     "text": [
      "[14] loss: 0.706 | Accuracy: 70 %\n"
     ]
    },
    {
     "name": "stderr",
     "output_type": "stream",
     "text": [
      " 50%|█████     | 15/30 [13:53<13:54, 55.60s/it]"
     ]
    },
    {
     "name": "stdout",
     "output_type": "stream",
     "text": [
      "[15] loss: 0.701 | Accuracy: 72 %\n"
     ]
    },
    {
     "name": "stderr",
     "output_type": "stream",
     "text": [
      " 53%|█████▎    | 16/30 [14:49<12:58, 55.59s/it]"
     ]
    },
    {
     "name": "stdout",
     "output_type": "stream",
     "text": [
      "[16] loss: 0.698 | Accuracy: 70 %\n"
     ]
    },
    {
     "name": "stderr",
     "output_type": "stream",
     "text": [
      " 57%|█████▋    | 17/30 [15:44<12:01, 55.47s/it]"
     ]
    },
    {
     "name": "stdout",
     "output_type": "stream",
     "text": [
      "[17] loss: 0.686 | Accuracy: 69 %\n"
     ]
    },
    {
     "name": "stderr",
     "output_type": "stream",
     "text": [
      " 60%|██████    | 18/30 [16:40<11:09, 55.76s/it]"
     ]
    },
    {
     "name": "stdout",
     "output_type": "stream",
     "text": [
      "[18] loss: 0.652 | Accuracy: 65 %\n"
     ]
    },
    {
     "name": "stderr",
     "output_type": "stream",
     "text": [
      " 63%|██████▎   | 19/30 [17:36<10:11, 55.57s/it]"
     ]
    },
    {
     "name": "stdout",
     "output_type": "stream",
     "text": [
      "[19] loss: 0.649 | Accuracy: 69 %\n"
     ]
    },
    {
     "name": "stderr",
     "output_type": "stream",
     "text": [
      " 67%|██████▋   | 20/30 [18:31<09:14, 55.49s/it]"
     ]
    },
    {
     "name": "stdout",
     "output_type": "stream",
     "text": [
      "[20] loss: 0.620 | Accuracy: 68 %\n"
     ]
    },
    {
     "name": "stderr",
     "output_type": "stream",
     "text": [
      " 70%|███████   | 21/30 [19:26<08:17, 55.33s/it]"
     ]
    },
    {
     "name": "stdout",
     "output_type": "stream",
     "text": [
      "[21] loss: 0.610 | Accuracy: 70 %\n"
     ]
    },
    {
     "name": "stderr",
     "output_type": "stream",
     "text": [
      " 73%|███████▎  | 22/30 [20:21<07:22, 55.37s/it]"
     ]
    },
    {
     "name": "stdout",
     "output_type": "stream",
     "text": [
      "[22] loss: 0.614 | Accuracy: 67 %\n"
     ]
    },
    {
     "name": "stderr",
     "output_type": "stream",
     "text": [
      " 77%|███████▋  | 23/30 [21:17<06:28, 55.50s/it]"
     ]
    },
    {
     "name": "stdout",
     "output_type": "stream",
     "text": [
      "[23] loss: 0.593 | Accuracy: 67 %\n"
     ]
    },
    {
     "name": "stderr",
     "output_type": "stream",
     "text": [
      " 80%|████████  | 24/30 [22:12<05:31, 55.33s/it]"
     ]
    },
    {
     "name": "stdout",
     "output_type": "stream",
     "text": [
      "[24] loss: 0.592 | Accuracy: 67 %\n"
     ]
    },
    {
     "name": "stderr",
     "output_type": "stream",
     "text": [
      " 83%|████████▎ | 25/30 [23:08<04:37, 55.42s/it]"
     ]
    },
    {
     "name": "stdout",
     "output_type": "stream",
     "text": [
      "[25] loss: 0.579 | Accuracy: 70 %\n"
     ]
    },
    {
     "name": "stderr",
     "output_type": "stream",
     "text": [
      " 87%|████████▋ | 26/30 [24:03<03:41, 55.43s/it]"
     ]
    },
    {
     "name": "stdout",
     "output_type": "stream",
     "text": [
      "[26] loss: 0.595 | Accuracy: 74 %\n"
     ]
    },
    {
     "name": "stderr",
     "output_type": "stream",
     "text": [
      " 90%|█████████ | 27/30 [24:59<02:46, 55.64s/it]"
     ]
    },
    {
     "name": "stdout",
     "output_type": "stream",
     "text": [
      "[27] loss: 0.573 | Accuracy: 77 %\n"
     ]
    },
    {
     "name": "stderr",
     "output_type": "stream",
     "text": [
      " 93%|█████████▎| 28/30 [25:54<01:51, 55.52s/it]"
     ]
    },
    {
     "name": "stdout",
     "output_type": "stream",
     "text": [
      "[28] loss: 0.549 | Accuracy: 74 %\n"
     ]
    },
    {
     "name": "stderr",
     "output_type": "stream",
     "text": [
      " 97%|█████████▋| 29/30 [26:50<00:55, 55.46s/it]"
     ]
    },
    {
     "name": "stdout",
     "output_type": "stream",
     "text": [
      "[29] loss: 0.559 | Accuracy: 73 %\n"
     ]
    },
    {
     "name": "stderr",
     "output_type": "stream",
     "text": [
      "100%|██████████| 30/30 [27:46<00:00, 55.54s/it]"
     ]
    },
    {
     "name": "stdout",
     "output_type": "stream",
     "text": [
      "[30] loss: 0.538 | Accuracy: 74 %\n"
     ]
    },
    {
     "name": "stderr",
     "output_type": "stream",
     "text": [
      "\n"
     ]
    }
   ],
   "source": [
    "# Load the EfficientNet model (you need to install the effnet_pytorch library)\n",
    "model_efficientnet = EfficientNet.from_pretrained('efficientnet-b0')\n",
    "# Modify the first convolution layer to accept 1 channel instead of 3\n",
    "model_efficientnet._conv_stem = nn.Conv2d(1, 32, kernel_size=3, stride=2, bias=False)\n",
    "# Modify the fully connected layer for your specific task\n",
    "model_efficientnet._fc = nn.Linear(model_efficientnet._fc.in_features, num_classes)\n",
    "\n",
    "model = model_efficientnet\n",
    "model = nn.DataParallel(model, device_ids=device_ids)\n",
    "model = model.cuda()\n",
    "\n",
    "# Define the loss function and the optimizer\n",
    "criterion = nn.CrossEntropyLoss()\n",
    "optimizer = optim.Adam(model_efficientnet.parameters(), lr=1e-5)\n",
    "\n",
    "# Training loop\n",
    "EPOCH = 30\n",
    "\n",
    "loss_evolution = []\n",
    "accuracy_evolution = []\n",
    "\n",
    "for epoch in tqdm.trange(EPOCH):\n",
    "    running_loss = 0.0\n",
    "    correct = 0\n",
    "    total = 0\n",
    "\n",
    "    for i, data in enumerate(train_dataloader, 0):\n",
    "        # get the inputs; data is a list of [inputs, labels]\n",
    "        inputs, _, labels = data\n",
    "        inputs = inputs.cuda()\n",
    "        labels = torch.tensor([animals_dict[label] for label in labels]).cuda()\n",
    "\n",
    "        # Add a channel dimension to the input\n",
    "        inputs = inputs.unsqueeze(1)\n",
    "        \n",
    "        # zero the parameter gradients\n",
    "        optimizer.zero_grad()\n",
    "\n",
    "        # forward + backward + optimize\n",
    "        outputs = model(inputs)\n",
    "\n",
    "        loss = criterion(outputs, labels)\n",
    "        loss_evolution.append(loss.item())\n",
    "        loss.backward()\n",
    "        optimizer.step()\n",
    "\n",
    "        # print statistics\n",
    "        running_loss += loss.item()\n",
    "\n",
    "    # Accuracy computation\n",
    "    with torch.no_grad():\n",
    "        for data in val_dataloader:\n",
    "            inputs, _, labels = data\n",
    "            inputs = inputs.cuda()\n",
    "            labels = torch.tensor([animals_dict[label] for label in labels]).cuda()\n",
    "            inputs = inputs.unsqueeze(1)\n",
    "            outputs = model(inputs)\n",
    "            _, predicted = torch.max(outputs.data, 1)\n",
    "            total += len(labels)\n",
    "            correct += (predicted == labels).sum().item()\n",
    "\n",
    "    accuracy_evolution.append(100 * correct / total)\n",
    "    print('[%d] loss: %.3f | Accuracy: %d %%' % (epoch + 1, running_loss / len(train_dataloader), 100 * correct / total))\n"
   ]
  },
  {
   "cell_type": "code",
   "execution_count": 23,
   "id": "c36b3ab6",
   "metadata": {
    "execution": {
     "iopub.execute_input": "2024-02-15T20:58:31.682691Z",
     "iopub.status.busy": "2024-02-15T20:58:31.682400Z",
     "iopub.status.idle": "2024-02-15T20:58:32.144060Z",
     "shell.execute_reply": "2024-02-15T20:58:32.142902Z"
    },
    "papermill": {
     "duration": 0.507042,
     "end_time": "2024-02-15T20:58:32.146207",
     "exception": false,
     "start_time": "2024-02-15T20:58:31.639165",
     "status": "completed"
    },
    "tags": []
   },
   "outputs": [
    {
     "data": {
      "image/png": "[encoded data removed]",
      "text/plain": [
       "<Figure size 640x480 with 1 Axes>"
      ]
     },
     "metadata": {},
     "output_type": "display_data"
    },
    {
     "data": {
      "image/png": "[encoded data removed]",
      "text/plain": [
       "<Figure size 640x480 with 1 Axes>"
      ]
     },
     "metadata": {},
     "output_type": "display_data"
    }
   ],
   "source": [
    "# Plot the loss evolution\n",
    "plt.plot(loss_evolution)\n",
    "plt.title('Loss evolution')\n",
    "plt.xlabel('Batch')\n",
    "plt.ylabel('Loss')\n",
    "plt.show()\n",
    "\n",
    "# Plot the accuracy evolution\n",
    "plt.plot(accuracy_evolution)\n",
    "plt.title('Accuracy evolution')\n",
    "plt.xlabel('Epoch')\n",
    "plt.ylabel('Accuracy')\n",
    "plt.show()\n",
    "\n",
    "# Save the model\n",
    "torch.save(model.state_dict(), 'efficientnet_model.pth')"
   ]
  },
  {
   "cell_type": "markdown",
   "id": "2c304fa2",
   "metadata": {
    "papermill": {
     "duration": 0.043274,
     "end_time": "2024-02-15T20:58:32.234596",
     "exception": false,
     "start_time": "2024-02-15T20:58:32.191322",
     "status": "completed"
    },
    "tags": []
   },
   "source": [
    "### RESNET101"
   ]
  },
  {
   "cell_type": "code",
   "execution_count": 24,
   "id": "39e0244c",
   "metadata": {
    "execution": {
     "iopub.execute_input": "2024-02-15T20:58:32.323213Z",
     "iopub.status.busy": "2024-02-15T20:58:32.322885Z",
     "iopub.status.idle": "2024-02-15T20:58:32.457597Z",
     "shell.execute_reply": "2024-02-15T20:58:32.456704Z"
    },
    "papermill": {
     "duration": 0.181306,
     "end_time": "2024-02-15T20:58:32.459451",
     "exception": false,
     "start_time": "2024-02-15T20:58:32.278145",
     "status": "completed"
    },
    "tags": []
   },
   "outputs": [],
   "source": [
    "torch.cuda.empty_cache()"
   ]
  },
  {
   "cell_type": "code",
   "execution_count": 25,
   "id": "994f124c",
   "metadata": {
    "execution": {
     "iopub.execute_input": "2024-02-15T20:58:32.549611Z",
     "iopub.status.busy": "2024-02-15T20:58:32.549316Z",
     "iopub.status.idle": "2024-02-15T21:01:21.417006Z",
     "shell.execute_reply": "2024-02-15T21:01:21.415999Z"
    },
    "papermill": {
     "duration": 168.915769,
     "end_time": "2024-02-15T21:01:21.419612",
     "exception": false,
     "start_time": "2024-02-15T20:58:32.503843",
     "status": "completed"
    },
    "tags": []
   },
   "outputs": [
    {
     "name": "stderr",
     "output_type": "stream",
     "text": [
      "/opt/conda/lib/python3.10/site-packages/torchvision/models/_utils.py:223: UserWarning: Arguments other than a weight enum or `None` for 'weights' are deprecated since 0.13 and may be removed in the future. The current behavior is equivalent to passing `weights=ResNet101_Weights.IMAGENET1K_V1`. You can also use `weights=ResNet101_Weights.DEFAULT` to get the most up-to-date weights.\n",
      "  warnings.warn(msg)\n",
      "Downloading: \"https://download.pytorch.org/models/resnet101-63fe2227.pth\" to /root/.cache/torch/hub/checkpoints/resnet101-63fe2227.pth\n",
      "100%|██████████| 171M/171M [00:01<00:00, 132MB/s]\n",
      "  2%|▏         | 1/50 [00:03<02:42,  3.32s/it]"
     ]
    },
    {
     "name": "stdout",
     "output_type": "stream",
     "text": [
      "[1] loss: 0.029 | Accuracy: 40 %\n"
     ]
    },
    {
     "name": "stderr",
     "output_type": "stream",
     "text": [
      "  4%|▍         | 2/50 [00:06<02:36,  3.26s/it]"
     ]
    },
    {
     "name": "stdout",
     "output_type": "stream",
     "text": [
      "[2] loss: 0.030 | Accuracy: 46 %\n"
     ]
    },
    {
     "name": "stderr",
     "output_type": "stream",
     "text": [
      "  6%|▌         | 3/50 [00:09<02:34,  3.29s/it]"
     ]
    },
    {
     "name": "stdout",
     "output_type": "stream",
     "text": [
      "[3] loss: 0.031 | Accuracy: 46 %\n"
     ]
    },
    {
     "name": "stderr",
     "output_type": "stream",
     "text": [
      "  8%|▊         | 4/50 [00:13<02:36,  3.39s/it]"
     ]
    },
    {
     "name": "stdout",
     "output_type": "stream",
     "text": [
      "[4] loss: 0.030 | Accuracy: 37 %\n"
     ]
    },
    {
     "name": "stderr",
     "output_type": "stream",
     "text": [
      " 10%|█         | 5/50 [00:16<02:30,  3.34s/it]"
     ]
    },
    {
     "name": "stdout",
     "output_type": "stream",
     "text": [
      "[5] loss: 0.031 | Accuracy: 40 %\n"
     ]
    },
    {
     "name": "stderr",
     "output_type": "stream",
     "text": [
      " 12%|█▏        | 6/50 [00:19<02:26,  3.33s/it]"
     ]
    },
    {
     "name": "stdout",
     "output_type": "stream",
     "text": [
      "[6] loss: 0.030 | Accuracy: 37 %\n"
     ]
    },
    {
     "name": "stderr",
     "output_type": "stream",
     "text": [
      " 14%|█▍        | 7/50 [00:23<02:21,  3.30s/it]"
     ]
    },
    {
     "name": "stdout",
     "output_type": "stream",
     "text": [
      "[7] loss: 0.029 | Accuracy: 43 %\n"
     ]
    },
    {
     "name": "stderr",
     "output_type": "stream",
     "text": [
      " 16%|█▌        | 8/50 [00:26<02:17,  3.28s/it]"
     ]
    },
    {
     "name": "stdout",
     "output_type": "stream",
     "text": [
      "[8] loss: 0.032 | Accuracy: 21 %\n"
     ]
    },
    {
     "name": "stderr",
     "output_type": "stream",
     "text": [
      " 18%|█▊        | 9/50 [00:29<02:14,  3.29s/it]"
     ]
    },
    {
     "name": "stdout",
     "output_type": "stream",
     "text": [
      "[9] loss: 0.031 | Accuracy: 28 %\n"
     ]
    },
    {
     "name": "stderr",
     "output_type": "stream",
     "text": [
      " 20%|██        | 10/50 [00:33<02:11,  3.29s/it]"
     ]
    },
    {
     "name": "stdout",
     "output_type": "stream",
     "text": [
      "[10] loss: 0.031 | Accuracy: 46 %\n"
     ]
    },
    {
     "name": "stderr",
     "output_type": "stream",
     "text": [
      " 22%|██▏       | 11/50 [00:36<02:10,  3.33s/it]"
     ]
    },
    {
     "name": "stdout",
     "output_type": "stream",
     "text": [
      "[11] loss: 0.031 | Accuracy: 28 %\n"
     ]
    },
    {
     "name": "stderr",
     "output_type": "stream",
     "text": [
      " 24%|██▍       | 12/50 [00:39<02:08,  3.37s/it]"
     ]
    },
    {
     "name": "stdout",
     "output_type": "stream",
     "text": [
      "[12] loss: 0.030 | Accuracy: 37 %\n"
     ]
    },
    {
     "name": "stderr",
     "output_type": "stream",
     "text": [
      " 26%|██▌       | 13/50 [00:43<02:03,  3.33s/it]"
     ]
    },
    {
     "name": "stdout",
     "output_type": "stream",
     "text": [
      "[13] loss: 0.035 | Accuracy: 50 %\n"
     ]
    },
    {
     "name": "stderr",
     "output_type": "stream",
     "text": [
      " 28%|██▊       | 14/50 [00:46<02:00,  3.36s/it]"
     ]
    },
    {
     "name": "stdout",
     "output_type": "stream",
     "text": [
      "[14] loss: 0.030 | Accuracy: 31 %\n"
     ]
    },
    {
     "name": "stderr",
     "output_type": "stream",
     "text": [
      " 30%|███       | 15/50 [00:49<01:56,  3.32s/it]"
     ]
    },
    {
     "name": "stdout",
     "output_type": "stream",
     "text": [
      "[15] loss: 0.031 | Accuracy: 21 %\n"
     ]
    },
    {
     "name": "stderr",
     "output_type": "stream",
     "text": [
      " 32%|███▏      | 16/50 [00:53<01:52,  3.31s/it]"
     ]
    },
    {
     "name": "stdout",
     "output_type": "stream",
     "text": [
      "[16] loss: 0.030 | Accuracy: 21 %\n"
     ]
    },
    {
     "name": "stderr",
     "output_type": "stream",
     "text": [
      " 34%|███▍      | 17/50 [00:56<01:48,  3.28s/it]"
     ]
    },
    {
     "name": "stdout",
     "output_type": "stream",
     "text": [
      "[17] loss: 0.030 | Accuracy: 37 %\n"
     ]
    },
    {
     "name": "stderr",
     "output_type": "stream",
     "text": [
      " 36%|███▌      | 18/50 [00:59<01:44,  3.28s/it]"
     ]
    },
    {
     "name": "stdout",
     "output_type": "stream",
     "text": [
      "[18] loss: 0.030 | Accuracy: 34 %\n"
     ]
    },
    {
     "name": "stderr",
     "output_type": "stream",
     "text": [
      " 38%|███▊      | 19/50 [01:03<01:43,  3.33s/it]"
     ]
    },
    {
     "name": "stdout",
     "output_type": "stream",
     "text": [
      "[19] loss: 0.032 | Accuracy: 40 %\n"
     ]
    },
    {
     "name": "stderr",
     "output_type": "stream",
     "text": [
      " 40%|████      | 20/50 [01:06<01:39,  3.33s/it]"
     ]
    },
    {
     "name": "stdout",
     "output_type": "stream",
     "text": [
      "[20] loss: 0.030 | Accuracy: 37 %\n"
     ]
    },
    {
     "name": "stderr",
     "output_type": "stream",
     "text": [
      " 42%|████▏     | 21/50 [01:09<01:38,  3.38s/it]"
     ]
    },
    {
     "name": "stdout",
     "output_type": "stream",
     "text": [
      "[21] loss: 0.031 | Accuracy: 40 %\n"
     ]
    },
    {
     "name": "stderr",
     "output_type": "stream",
     "text": [
      " 44%|████▍     | 22/50 [01:13<01:35,  3.40s/it]"
     ]
    },
    {
     "name": "stdout",
     "output_type": "stream",
     "text": [
      "[22] loss: 0.031 | Accuracy: 46 %\n"
     ]
    },
    {
     "name": "stderr",
     "output_type": "stream",
     "text": [
      " 46%|████▌     | 23/50 [01:16<01:33,  3.45s/it]"
     ]
    },
    {
     "name": "stdout",
     "output_type": "stream",
     "text": [
      "[23] loss: 0.030 | Accuracy: 43 %\n"
     ]
    },
    {
     "name": "stderr",
     "output_type": "stream",
     "text": [
      " 48%|████▊     | 24/50 [01:20<01:28,  3.42s/it]"
     ]
    },
    {
     "name": "stdout",
     "output_type": "stream",
     "text": [
      "[24] loss: 0.031 | Accuracy: 34 %\n"
     ]
    },
    {
     "name": "stderr",
     "output_type": "stream",
     "text": [
      " 50%|█████     | 25/50 [01:23<01:24,  3.39s/it]"
     ]
    },
    {
     "name": "stdout",
     "output_type": "stream",
     "text": [
      "[25] loss: 0.029 | Accuracy: 40 %\n"
     ]
    },
    {
     "name": "stderr",
     "output_type": "stream",
     "text": [
      " 52%|█████▏    | 26/50 [01:26<01:20,  3.36s/it]"
     ]
    },
    {
     "name": "stdout",
     "output_type": "stream",
     "text": [
      "[26] loss: 0.031 | Accuracy: 40 %\n"
     ]
    },
    {
     "name": "stderr",
     "output_type": "stream",
     "text": [
      " 54%|█████▍    | 27/50 [01:30<01:17,  3.36s/it]"
     ]
    },
    {
     "name": "stdout",
     "output_type": "stream",
     "text": [
      "[27] loss: 0.034 | Accuracy: 43 %\n"
     ]
    },
    {
     "name": "stderr",
     "output_type": "stream",
     "text": [
      " 56%|█████▌    | 28/50 [01:33<01:13,  3.34s/it]"
     ]
    },
    {
     "name": "stdout",
     "output_type": "stream",
     "text": [
      "[28] loss: 0.030 | Accuracy: 40 %\n"
     ]
    },
    {
     "name": "stderr",
     "output_type": "stream",
     "text": [
      " 58%|█████▊    | 29/50 [01:36<01:10,  3.35s/it]"
     ]
    },
    {
     "name": "stdout",
     "output_type": "stream",
     "text": [
      "[29] loss: 0.031 | Accuracy: 40 %\n"
     ]
    },
    {
     "name": "stderr",
     "output_type": "stream",
     "text": [
      " 60%|██████    | 30/50 [01:40<01:06,  3.34s/it]"
     ]
    },
    {
     "name": "stdout",
     "output_type": "stream",
     "text": [
      "[30] loss: 0.031 | Accuracy: 34 %\n"
     ]
    },
    {
     "name": "stderr",
     "output_type": "stream",
     "text": [
      " 62%|██████▏   | 31/50 [01:43<01:02,  3.30s/it]"
     ]
    },
    {
     "name": "stdout",
     "output_type": "stream",
     "text": [
      "[31] loss: 0.031 | Accuracy: 43 %\n"
     ]
    },
    {
     "name": "stderr",
     "output_type": "stream",
     "text": [
      " 64%|██████▍   | 32/50 [01:46<01:00,  3.33s/it]"
     ]
    },
    {
     "name": "stdout",
     "output_type": "stream",
     "text": [
      "[32] loss: 0.029 | Accuracy: 43 %\n"
     ]
    },
    {
     "name": "stderr",
     "output_type": "stream",
     "text": [
      " 66%|██████▌   | 33/50 [01:50<00:56,  3.33s/it]"
     ]
    },
    {
     "name": "stdout",
     "output_type": "stream",
     "text": [
      "[33] loss: 0.031 | Accuracy: 37 %\n"
     ]
    },
    {
     "name": "stderr",
     "output_type": "stream",
     "text": [
      " 68%|██████▊   | 34/50 [01:53<00:52,  3.30s/it]"
     ]
    },
    {
     "name": "stdout",
     "output_type": "stream",
     "text": [
      "[34] loss: 0.030 | Accuracy: 46 %\n"
     ]
    },
    {
     "name": "stderr",
     "output_type": "stream",
     "text": [
      " 70%|███████   | 35/50 [01:56<00:49,  3.27s/it]"
     ]
    },
    {
     "name": "stdout",
     "output_type": "stream",
     "text": [
      "[35] loss: 0.030 | Accuracy: 31 %\n"
     ]
    },
    {
     "name": "stderr",
     "output_type": "stream",
     "text": [
      " 72%|███████▏  | 36/50 [01:59<00:45,  3.26s/it]"
     ]
    },
    {
     "name": "stdout",
     "output_type": "stream",
     "text": [
      "[36] loss: 0.031 | Accuracy: 40 %\n"
     ]
    },
    {
     "name": "stderr",
     "output_type": "stream",
     "text": [
      " 74%|███████▍  | 37/50 [02:03<00:42,  3.28s/it]"
     ]
    },
    {
     "name": "stdout",
     "output_type": "stream",
     "text": [
      "[37] loss: 0.029 | Accuracy: 31 %\n"
     ]
    },
    {
     "name": "stderr",
     "output_type": "stream",
     "text": [
      " 76%|███████▌  | 38/50 [02:06<00:39,  3.27s/it]"
     ]
    },
    {
     "name": "stdout",
     "output_type": "stream",
     "text": [
      "[38] loss: 0.030 | Accuracy: 25 %\n"
     ]
    },
    {
     "name": "stderr",
     "output_type": "stream",
     "text": [
      " 78%|███████▊  | 39/50 [02:09<00:36,  3.31s/it]"
     ]
    },
    {
     "name": "stdout",
     "output_type": "stream",
     "text": [
      "[39] loss: 0.032 | Accuracy: 46 %\n"
     ]
    },
    {
     "name": "stderr",
     "output_type": "stream",
     "text": [
      " 80%|████████  | 40/50 [02:13<00:32,  3.30s/it]"
     ]
    },
    {
     "name": "stdout",
     "output_type": "stream",
     "text": [
      "[40] loss: 0.032 | Accuracy: 40 %\n"
     ]
    },
    {
     "name": "stderr",
     "output_type": "stream",
     "text": [
      " 82%|████████▏ | 41/50 [02:16<00:29,  3.29s/it]"
     ]
    },
    {
     "name": "stdout",
     "output_type": "stream",
     "text": [
      "[41] loss: 0.030 | Accuracy: 37 %\n"
     ]
    },
    {
     "name": "stderr",
     "output_type": "stream",
     "text": [
      " 84%|████████▍ | 42/50 [02:19<00:27,  3.40s/it]"
     ]
    },
    {
     "name": "stdout",
     "output_type": "stream",
     "text": [
      "[42] loss: 0.032 | Accuracy: 31 %\n"
     ]
    },
    {
     "name": "stderr",
     "output_type": "stream",
     "text": [
      " 86%|████████▌ | 43/50 [02:23<00:23,  3.39s/it]"
     ]
    },
    {
     "name": "stdout",
     "output_type": "stream",
     "text": [
      "[43] loss: 0.031 | Accuracy: 31 %\n"
     ]
    },
    {
     "name": "stderr",
     "output_type": "stream",
     "text": [
      " 88%|████████▊ | 44/50 [02:26<00:20,  3.35s/it]"
     ]
    },
    {
     "name": "stdout",
     "output_type": "stream",
     "text": [
      "[44] loss: 0.030 | Accuracy: 43 %\n"
     ]
    },
    {
     "name": "stderr",
     "output_type": "stream",
     "text": [
      " 90%|█████████ | 45/50 [02:29<00:16,  3.32s/it]"
     ]
    },
    {
     "name": "stdout",
     "output_type": "stream",
     "text": [
      "[45] loss: 0.030 | Accuracy: 34 %\n"
     ]
    },
    {
     "name": "stderr",
     "output_type": "stream",
     "text": [
      " 92%|█████████▏| 46/50 [02:33<00:13,  3.33s/it]"
     ]
    },
    {
     "name": "stdout",
     "output_type": "stream",
     "text": [
      "[46] loss: 0.030 | Accuracy: 31 %\n"
     ]
    },
    {
     "name": "stderr",
     "output_type": "stream",
     "text": [
      " 94%|█████████▍| 47/50 [02:36<00:09,  3.30s/it]"
     ]
    },
    {
     "name": "stdout",
     "output_type": "stream",
     "text": [
      "[47] loss: 0.030 | Accuracy: 31 %\n"
     ]
    },
    {
     "name": "stderr",
     "output_type": "stream",
     "text": [
      " 96%|█████████▌| 48/50 [02:39<00:06,  3.29s/it]"
     ]
    },
    {
     "name": "stdout",
     "output_type": "stream",
     "text": [
      "[48] loss: 0.030 | Accuracy: 31 %\n"
     ]
    },
    {
     "name": "stderr",
     "output_type": "stream",
     "text": [
      " 98%|█████████▊| 49/50 [02:42<00:03,  3.28s/it]"
     ]
    },
    {
     "name": "stdout",
     "output_type": "stream",
     "text": [
      "[49] loss: 0.030 | Accuracy: 40 %\n"
     ]
    },
    {
     "name": "stderr",
     "output_type": "stream",
     "text": [
      "100%|██████████| 50/50 [02:46<00:00,  3.32s/it]"
     ]
    },
    {
     "name": "stdout",
     "output_type": "stream",
     "text": [
      "[50] loss: 0.030 | Accuracy: 37 %\n"
     ]
    },
    {
     "name": "stderr",
     "output_type": "stream",
     "text": [
      "\n"
     ]
    }
   ],
   "source": [
    "from torchvision.models import resnet101\n",
    "model_resnet101 = resnet101(pretrained=True)\n",
    "\n",
    "# Modify the first convolution layer to accept 1 channel instead of 3\n",
    "model_resnet101.conv1 = nn.Conv2d(1, 64, kernel_size=7, stride=2, padding=3, bias=False)\n",
    "\n",
    "# Modify the fully connected layer for your specific task\n",
    "model_resnet101.fc = nn.Linear(model_resnet101.fc.in_features, num_classes)\n",
    "\n",
    "model = model_resnet101\n",
    "model = nn.DataParallel(model, device_ids=device_ids)\n",
    "model = model.cuda()\n",
    "\n",
    "# Define the loss function and the optimizer\n",
    "criterion = nn.CrossEntropyLoss()\n",
    "optimizer = optim.Adam(model.parameters(), lr=1e-7)\n",
    "\n",
    "# Training loop\n",
    "EPOCH = 50\n",
    "\n",
    "loss_evolution = []\n",
    "accuracy_evolution = []\n",
    "\n",
    "for epoch in tqdm.trange(EPOCH):\n",
    "    running_loss = 0.0\n",
    "    correct = 0\n",
    "    total = 0\n",
    "\n",
    "    for i, data in enumerate(train_dataloader, 0):\n",
    "        # get the inputs; data is a list of [inputs, labels]\n",
    "        inputs, _, labels = data\n",
    "        inputs = inputs.cuda()\n",
    "        labels = torch.tensor([animals_dict[label] for label in labels]).cuda()\n",
    "\n",
    "        # Add a channel dimension to the input\n",
    "        inputs = inputs.unsqueeze(1)\n",
    "        \n",
    "        # zero the parameter gradients\n",
    "        optimizer.zero_grad()\n",
    "        \n",
    "\n",
    "        # forward + backward + optimize\n",
    "        outputs = model(inputs)\n",
    "\n",
    "        loss = criterion(outputs, labels)\n",
    "        loss_evolution.append(loss.item())\n",
    "        loss.backward()\n",
    "        optimizer.step()\n",
    "\n",
    "        # print statistics\n",
    "        running_loss += loss.item()\n",
    "        break\n",
    "\n",
    "    # Accuracy computation\n",
    "    with torch.no_grad():\n",
    "        for data in val_dataloader:\n",
    "            inputs, _, labels = data\n",
    "            inputs = inputs.cuda()\n",
    "            labels = torch.tensor([animals_dict[label] for label in labels]).cuda()\n",
    "            # Add a channel dimension to the input\n",
    "            inputs = inputs.unsqueeze(1)\n",
    "            outputs = model(inputs)\n",
    "            _, predicted = torch.max(outputs.data, 1)\n",
    "            total += len(labels)\n",
    "            correct += (predicted == labels).sum().item()\n",
    "            break\n",
    "\n",
    "    accuracy_evolution.append(100 * correct / total)\n",
    "    print('[%d] loss: %.3f | Accuracy: %d %%' % (epoch + 1, running_loss / len(train_dataloader), 100 * correct / total))"
   ]
  },
  {
   "cell_type": "code",
   "execution_count": 26,
   "id": "639fb21d",
   "metadata": {
    "execution": {
     "iopub.execute_input": "2024-02-15T21:01:21.528362Z",
     "iopub.status.busy": "2024-02-15T21:01:21.528065Z",
     "iopub.status.idle": "2024-02-15T21:01:22.198832Z",
     "shell.execute_reply": "2024-02-15T21:01:22.197805Z"
    },
    "papermill": {
     "duration": 0.727833,
     "end_time": "2024-02-15T21:01:22.201248",
     "exception": false,
     "start_time": "2024-02-15T21:01:21.473415",
     "status": "completed"
    },
    "tags": []
   },
   "outputs": [
    {
     "data": {
      "image/png": "[encoded data removed]",
      "text/plain": [
       "<Figure size 640x480 with 1 Axes>"
      ]
     },
     "metadata": {},
     "output_type": "display_data"
    },
    {
     "data": {
      "image/png": "[encoded data removed]",
      "text/plain": [
       "<Figure size 640x480 with 1 Axes>"
      ]
     },
     "metadata": {},
     "output_type": "display_data"
    }
   ],
   "source": [
    "# Plot the loss evolution\n",
    "plt.plot(loss_evolution)\n",
    "plt.title('Loss evolution')\n",
    "plt.xlabel('Batch')\n",
    "plt.ylabel('Loss')\n",
    "plt.show()\n",
    "\n",
    "# Plot the accuracy evolution\n",
    "plt.plot(accuracy_evolution)\n",
    "plt.title('Accuracy evolution')\n",
    "plt.xlabel('Epoch')\n",
    "plt.ylabel('Accuracy')\n",
    "plt.show()\n",
    "\n",
    "# Save the model\n",
    "torch.save(model.state_dict(), 'resnet101_model.pth')"
   ]
  },
  {
   "cell_type": "markdown",
   "id": "998f8bb1",
   "metadata": {
    "papermill": {
     "duration": 0.054897,
     "end_time": "2024-02-15T21:01:22.310657",
     "exception": false,
     "start_time": "2024-02-15T21:01:22.255760",
     "status": "completed"
    },
    "tags": []
   },
   "source": [
    "### VGG16:"
   ]
  },
  {
   "cell_type": "code",
   "execution_count": 27,
   "id": "cbf37cf6",
   "metadata": {
    "execution": {
     "iopub.execute_input": "2024-02-15T21:01:22.420991Z",
     "iopub.status.busy": "2024-02-15T21:01:22.420398Z",
     "iopub.status.idle": "2024-02-15T21:01:22.657049Z",
     "shell.execute_reply": "2024-02-15T21:01:22.656109Z"
    },
    "papermill": {
     "duration": 0.29336,
     "end_time": "2024-02-15T21:01:22.659065",
     "exception": false,
     "start_time": "2024-02-15T21:01:22.365705",
     "status": "completed"
    },
    "tags": []
   },
   "outputs": [],
   "source": [
    "torch.cuda.empty_cache()"
   ]
  },
  {
   "cell_type": "code",
   "execution_count": 28,
   "id": "4baeda07",
   "metadata": {
    "execution": {
     "iopub.execute_input": "2024-02-15T21:01:22.769780Z",
     "iopub.status.busy": "2024-02-15T21:01:22.769456Z",
     "iopub.status.idle": "2024-02-15T21:03:45.021952Z",
     "shell.execute_reply": "2024-02-15T21:03:45.020828Z"
    },
    "papermill": {
     "duration": 142.311774,
     "end_time": "2024-02-15T21:03:45.025861",
     "exception": false,
     "start_time": "2024-02-15T21:01:22.714087",
     "status": "completed"
    },
    "tags": []
   },
   "outputs": [
    {
     "name": "stderr",
     "output_type": "stream",
     "text": [
      "/opt/conda/lib/python3.10/site-packages/torchvision/models/_utils.py:223: UserWarning: Arguments other than a weight enum or `None` for 'weights' are deprecated since 0.13 and may be removed in the future. The current behavior is equivalent to passing `weights=VGG16_Weights.IMAGENET1K_V1`. You can also use `weights=VGG16_Weights.DEFAULT` to get the most up-to-date weights.\n",
      "  warnings.warn(msg)\n",
      "Downloading: \"https://download.pytorch.org/models/vgg16-397923af.pth\" to /root/.cache/torch/hub/checkpoints/vgg16-397923af.pth\n",
      "100%|██████████| 528M/528M [00:03<00:00, 171MB/s]\n",
      "  2%|▎         | 1/40 [00:03<02:10,  3.35s/it]"
     ]
    },
    {
     "name": "stdout",
     "output_type": "stream",
     "text": [
      "[1] loss: 0.053 | Accuracy: 28 %\n"
     ]
    },
    {
     "name": "stderr",
     "output_type": "stream",
     "text": [
      "  5%|▌         | 2/40 [00:06<02:12,  3.49s/it]"
     ]
    },
    {
     "name": "stdout",
     "output_type": "stream",
     "text": [
      "[2] loss: 0.050 | Accuracy: 31 %\n"
     ]
    },
    {
     "name": "stderr",
     "output_type": "stream",
     "text": [
      "  8%|▊         | 3/40 [00:10<02:07,  3.44s/it]"
     ]
    },
    {
     "name": "stdout",
     "output_type": "stream",
     "text": [
      "[3] loss: 0.043 | Accuracy: 18 %\n"
     ]
    },
    {
     "name": "stderr",
     "output_type": "stream",
     "text": [
      " 10%|█         | 4/40 [00:13<02:02,  3.41s/it]"
     ]
    },
    {
     "name": "stdout",
     "output_type": "stream",
     "text": [
      "[4] loss: 0.044 | Accuracy: 34 %\n"
     ]
    },
    {
     "name": "stderr",
     "output_type": "stream",
     "text": [
      " 12%|█▎        | 5/40 [00:17<01:59,  3.42s/it]"
     ]
    },
    {
     "name": "stdout",
     "output_type": "stream",
     "text": [
      "[5] loss: 0.032 | Accuracy: 53 %\n"
     ]
    },
    {
     "name": "stderr",
     "output_type": "stream",
     "text": [
      " 15%|█▌        | 6/40 [00:20<01:55,  3.39s/it]"
     ]
    },
    {
     "name": "stdout",
     "output_type": "stream",
     "text": [
      "[6] loss: 0.033 | Accuracy: 34 %\n"
     ]
    },
    {
     "name": "stderr",
     "output_type": "stream",
     "text": [
      " 18%|█▊        | 7/40 [00:23<01:51,  3.38s/it]"
     ]
    },
    {
     "name": "stdout",
     "output_type": "stream",
     "text": [
      "[7] loss: 0.038 | Accuracy: 34 %\n"
     ]
    },
    {
     "name": "stderr",
     "output_type": "stream",
     "text": [
      " 20%|██        | 8/40 [00:27<01:49,  3.43s/it]"
     ]
    },
    {
     "name": "stdout",
     "output_type": "stream",
     "text": [
      "[8] loss: 0.046 | Accuracy: 31 %\n"
     ]
    },
    {
     "name": "stderr",
     "output_type": "stream",
     "text": [
      " 22%|██▎       | 9/40 [00:30<01:47,  3.48s/it]"
     ]
    },
    {
     "name": "stdout",
     "output_type": "stream",
     "text": [
      "[9] loss: 0.037 | Accuracy: 46 %\n"
     ]
    },
    {
     "name": "stderr",
     "output_type": "stream",
     "text": [
      " 25%|██▌       | 10/40 [00:34<01:44,  3.47s/it]"
     ]
    },
    {
     "name": "stdout",
     "output_type": "stream",
     "text": [
      "[10] loss: 0.036 | Accuracy: 25 %\n"
     ]
    },
    {
     "name": "stderr",
     "output_type": "stream",
     "text": [
      " 28%|██▊       | 11/40 [00:37<01:40,  3.47s/it]"
     ]
    },
    {
     "name": "stdout",
     "output_type": "stream",
     "text": [
      "[11] loss: 0.035 | Accuracy: 31 %\n"
     ]
    },
    {
     "name": "stderr",
     "output_type": "stream",
     "text": [
      " 30%|███       | 12/40 [00:41<01:36,  3.46s/it]"
     ]
    },
    {
     "name": "stdout",
     "output_type": "stream",
     "text": [
      "[12] loss: 0.039 | Accuracy: 43 %\n"
     ]
    },
    {
     "name": "stderr",
     "output_type": "stream",
     "text": [
      " 32%|███▎      | 13/40 [00:44<01:32,  3.43s/it]"
     ]
    },
    {
     "name": "stdout",
     "output_type": "stream",
     "text": [
      "[13] loss: 0.030 | Accuracy: 37 %\n"
     ]
    },
    {
     "name": "stderr",
     "output_type": "stream",
     "text": [
      " 35%|███▌      | 14/40 [00:48<01:29,  3.42s/it]"
     ]
    },
    {
     "name": "stdout",
     "output_type": "stream",
     "text": [
      "[14] loss: 0.034 | Accuracy: 40 %\n"
     ]
    },
    {
     "name": "stderr",
     "output_type": "stream",
     "text": [
      " 38%|███▊      | 15/40 [00:51<01:25,  3.41s/it]"
     ]
    },
    {
     "name": "stdout",
     "output_type": "stream",
     "text": [
      "[15] loss: 0.033 | Accuracy: 31 %\n"
     ]
    },
    {
     "name": "stderr",
     "output_type": "stream",
     "text": [
      " 40%|████      | 16/40 [00:54<01:22,  3.44s/it]"
     ]
    },
    {
     "name": "stdout",
     "output_type": "stream",
     "text": [
      "[16] loss: 0.030 | Accuracy: 25 %\n"
     ]
    },
    {
     "name": "stderr",
     "output_type": "stream",
     "text": [
      " 42%|████▎     | 17/40 [00:58<01:20,  3.50s/it]"
     ]
    },
    {
     "name": "stdout",
     "output_type": "stream",
     "text": [
      "[17] loss: 0.021 | Accuracy: 34 %\n"
     ]
    },
    {
     "name": "stderr",
     "output_type": "stream",
     "text": [
      " 45%|████▌     | 18/40 [01:01<01:16,  3.46s/it]"
     ]
    },
    {
     "name": "stdout",
     "output_type": "stream",
     "text": [
      "[18] loss: 0.036 | Accuracy: 53 %\n"
     ]
    },
    {
     "name": "stderr",
     "output_type": "stream",
     "text": [
      " 48%|████▊     | 19/40 [01:05<01:12,  3.44s/it]"
     ]
    },
    {
     "name": "stdout",
     "output_type": "stream",
     "text": [
      "[19] loss: 0.035 | Accuracy: 43 %\n"
     ]
    },
    {
     "name": "stderr",
     "output_type": "stream",
     "text": [
      " 50%|█████     | 20/40 [01:08<01:08,  3.43s/it]"
     ]
    },
    {
     "name": "stdout",
     "output_type": "stream",
     "text": [
      "[20] loss: 0.028 | Accuracy: 25 %\n"
     ]
    },
    {
     "name": "stderr",
     "output_type": "stream",
     "text": [
      " 52%|█████▎    | 21/40 [01:12<01:05,  3.45s/it]"
     ]
    },
    {
     "name": "stdout",
     "output_type": "stream",
     "text": [
      "[21] loss: 0.031 | Accuracy: 40 %\n"
     ]
    },
    {
     "name": "stderr",
     "output_type": "stream",
     "text": [
      " 55%|█████▌    | 22/40 [01:15<01:01,  3.42s/it]"
     ]
    },
    {
     "name": "stdout",
     "output_type": "stream",
     "text": [
      "[22] loss: 0.026 | Accuracy: 40 %\n"
     ]
    },
    {
     "name": "stderr",
     "output_type": "stream",
     "text": [
      " 57%|█████▊    | 23/40 [01:19<00:58,  3.45s/it]"
     ]
    },
    {
     "name": "stdout",
     "output_type": "stream",
     "text": [
      "[23] loss: 0.028 | Accuracy: 43 %\n"
     ]
    },
    {
     "name": "stderr",
     "output_type": "stream",
     "text": [
      " 60%|██████    | 24/40 [01:22<00:54,  3.42s/it]"
     ]
    },
    {
     "name": "stdout",
     "output_type": "stream",
     "text": [
      "[24] loss: 0.029 | Accuracy: 46 %\n"
     ]
    },
    {
     "name": "stderr",
     "output_type": "stream",
     "text": [
      " 62%|██████▎   | 25/40 [01:25<00:50,  3.40s/it]"
     ]
    },
    {
     "name": "stdout",
     "output_type": "stream",
     "text": [
      "[25] loss: 0.028 | Accuracy: 43 %\n"
     ]
    },
    {
     "name": "stderr",
     "output_type": "stream",
     "text": [
      " 65%|██████▌   | 26/40 [01:29<00:48,  3.47s/it]"
     ]
    },
    {
     "name": "stdout",
     "output_type": "stream",
     "text": [
      "[26] loss: 0.026 | Accuracy: 46 %\n"
     ]
    },
    {
     "name": "stderr",
     "output_type": "stream",
     "text": [
      " 68%|██████▊   | 27/40 [01:32<00:44,  3.44s/it]"
     ]
    },
    {
     "name": "stdout",
     "output_type": "stream",
     "text": [
      "[27] loss: 0.025 | Accuracy: 40 %\n"
     ]
    },
    {
     "name": "stderr",
     "output_type": "stream",
     "text": [
      " 70%|███████   | 28/40 [01:36<00:41,  3.43s/it]"
     ]
    },
    {
     "name": "stdout",
     "output_type": "stream",
     "text": [
      "[28] loss: 0.023 | Accuracy: 62 %\n"
     ]
    },
    {
     "name": "stderr",
     "output_type": "stream",
     "text": [
      " 72%|███████▎  | 29/40 [01:39<00:37,  3.41s/it]"
     ]
    },
    {
     "name": "stdout",
     "output_type": "stream",
     "text": [
      "[29] loss: 0.028 | Accuracy: 37 %\n"
     ]
    },
    {
     "name": "stderr",
     "output_type": "stream",
     "text": [
      " 75%|███████▌  | 30/40 [01:42<00:33,  3.40s/it]"
     ]
    },
    {
     "name": "stdout",
     "output_type": "stream",
     "text": [
      "[30] loss: 0.030 | Accuracy: 53 %\n"
     ]
    },
    {
     "name": "stderr",
     "output_type": "stream",
     "text": [
      " 78%|███████▊  | 31/40 [01:46<00:30,  3.38s/it]"
     ]
    },
    {
     "name": "stdout",
     "output_type": "stream",
     "text": [
      "[31] loss: 0.024 | Accuracy: 59 %\n"
     ]
    },
    {
     "name": "stderr",
     "output_type": "stream",
     "text": [
      " 80%|████████  | 32/40 [01:49<00:27,  3.38s/it]"
     ]
    },
    {
     "name": "stdout",
     "output_type": "stream",
     "text": [
      "[32] loss: 0.030 | Accuracy: 53 %\n"
     ]
    },
    {
     "name": "stderr",
     "output_type": "stream",
     "text": [
      " 82%|████████▎ | 33/40 [01:52<00:23,  3.37s/it]"
     ]
    },
    {
     "name": "stdout",
     "output_type": "stream",
     "text": [
      "[33] loss: 0.024 | Accuracy: 65 %\n"
     ]
    },
    {
     "name": "stderr",
     "output_type": "stream",
     "text": [
      " 85%|████████▌ | 34/40 [01:56<00:20,  3.36s/it]"
     ]
    },
    {
     "name": "stdout",
     "output_type": "stream",
     "text": [
      "[34] loss: 0.028 | Accuracy: 56 %\n"
     ]
    },
    {
     "name": "stderr",
     "output_type": "stream",
     "text": [
      " 88%|████████▊ | 35/40 [01:59<00:16,  3.37s/it]"
     ]
    },
    {
     "name": "stdout",
     "output_type": "stream",
     "text": [
      "[35] loss: 0.030 | Accuracy: 53 %\n"
     ]
    },
    {
     "name": "stderr",
     "output_type": "stream",
     "text": [
      " 90%|█████████ | 36/40 [02:03<00:13,  3.46s/it]"
     ]
    },
    {
     "name": "stdout",
     "output_type": "stream",
     "text": [
      "[36] loss: 0.028 | Accuracy: 50 %\n"
     ]
    },
    {
     "name": "stderr",
     "output_type": "stream",
     "text": [
      " 92%|█████████▎| 37/40 [02:06<00:10,  3.45s/it]"
     ]
    },
    {
     "name": "stdout",
     "output_type": "stream",
     "text": [
      "[37] loss: 0.024 | Accuracy: 46 %\n"
     ]
    },
    {
     "name": "stderr",
     "output_type": "stream",
     "text": [
      " 95%|█████████▌| 38/40 [02:10<00:06,  3.48s/it]"
     ]
    },
    {
     "name": "stdout",
     "output_type": "stream",
     "text": [
      "[38] loss: 0.023 | Accuracy: 59 %\n"
     ]
    },
    {
     "name": "stderr",
     "output_type": "stream",
     "text": [
      " 98%|█████████▊| 39/40 [02:13<00:03,  3.44s/it]"
     ]
    },
    {
     "name": "stdout",
     "output_type": "stream",
     "text": [
      "[39] loss: 0.029 | Accuracy: 53 %\n"
     ]
    },
    {
     "name": "stderr",
     "output_type": "stream",
     "text": [
      "100%|██████████| 40/40 [02:17<00:00,  3.43s/it]"
     ]
    },
    {
     "name": "stdout",
     "output_type": "stream",
     "text": [
      "[40] loss: 0.025 | Accuracy: 46 %\n"
     ]
    },
    {
     "name": "stderr",
     "output_type": "stream",
     "text": [
      "\n"
     ]
    }
   ],
   "source": [
    "from torchvision.models import vgg16\n",
    "model_vgg16 = vgg16(pretrained=True)\n",
    "\n",
    "# Modify the first convolution layer to accept 1 channel instead of 3\n",
    "model_vgg16.features[0] = nn.Conv2d(1, 64, kernel_size=3, stride=1, padding=1)\n",
    "\n",
    "# Modify the fully connected layer for your specific task\n",
    "model_vgg16.classifier[6] = nn.Linear(model_vgg16.classifier[6].in_features, num_classes)\n",
    "\n",
    "model = model_vgg16\n",
    "model = nn.DataParallel(model, device_ids=device_ids)\n",
    "model = model.cuda()\n",
    "\n",
    "# Define the loss function and the optimizer\n",
    "criterion = nn.CrossEntropyLoss()\n",
    "optimizer = optim.Adam(model.parameters(), lr=1e-5)\n",
    "\n",
    "# Training loop\n",
    "EPOCH = 40\n",
    "\n",
    "loss_evolution = []\n",
    "accuracy_evolution = []\n",
    "\n",
    "for epoch in tqdm.trange(EPOCH):\n",
    "    running_loss = 0.0\n",
    "    correct = 0\n",
    "    total = 0\n",
    "\n",
    "    for i, data in enumerate(train_dataloader, 0):\n",
    "        # get the inputs; data is a list of [inputs, labels]\n",
    "        inputs, _, labels = data\n",
    "        inputs = inputs.cuda()\n",
    "        labels = torch.tensor([animals_dict[label] for label in labels]).cuda()\n",
    "\n",
    "        # Add a channel dimension to the input\n",
    "        inputs = inputs.unsqueeze(1)\n",
    "        \n",
    "        # zero the parameter gradients\n",
    "        optimizer.zero_grad()\n",
    "        \n",
    "\n",
    "        # forward + backward + optimize\n",
    "        outputs = model(inputs)\n",
    "\n",
    "        loss = criterion(outputs, labels)\n",
    "        loss_evolution.append(loss.item())\n",
    "        loss.backward()\n",
    "        optimizer.step()\n",
    "\n",
    "        # print statistics\n",
    "        running_loss += loss.item()\n",
    "        break\n",
    "\n",
    "    # Accuracy computation\n",
    "    with torch.no_grad():\n",
    "        for data in val_dataloader:\n",
    "            inputs, _, labels = data\n",
    "            inputs = inputs.cuda()\n",
    "            labels = torch.tensor([animals_dict[label] for label in labels]).cuda()\n",
    "            \n",
    "            # Add a channel dimension to the input\n",
    "            inputs = inputs.unsqueeze(1)\n",
    "        \n",
    "            outputs = model(inputs)\n",
    "            _, predicted = torch.max(outputs.data, 1)\n",
    "            total += len(labels)\n",
    "            correct += (predicted == labels).sum().item()\n",
    "            break\n",
    "\n",
    "    accuracy_evolution.append(100 * correct / total)\n",
    "    print('[%d] loss: %.3f | Accuracy: %d %%' % (epoch + 1, running_loss / len(train_dataloader), 100 * correct / total))"
   ]
  },
  {
   "cell_type": "code",
   "execution_count": 29,
   "id": "0ceb4163",
   "metadata": {
    "execution": {
     "iopub.execute_input": "2024-02-15T21:03:45.174533Z",
     "iopub.status.busy": "2024-02-15T21:03:45.174194Z",
     "iopub.status.idle": "2024-02-15T21:03:46.920862Z",
     "shell.execute_reply": "2024-02-15T21:03:46.919620Z"
    },
    "papermill": {
     "duration": 1.820439,
     "end_time": "2024-02-15T21:03:46.923425",
     "exception": false,
     "start_time": "2024-02-15T21:03:45.102986",
     "status": "completed"
    },
    "tags": []
   },
   "outputs": [
    {
     "data": {
      "image/png": "[encoded data removed]",
      "text/plain": [
       "<Figure size 640x480 with 1 Axes>"
      ]
     },
     "metadata": {},
     "output_type": "display_data"
    },
    {
     "data": {
      "image/png": "[encoded data removed]",
      "text/plain": [
       "<Figure size 640x480 with 1 Axes>"
      ]
     },
     "metadata": {},
     "output_type": "display_data"
    }
   ],
   "source": [
    "# Plot the loss evolution\n",
    "plt.plot(loss_evolution)\n",
    "plt.title('Loss evolution')\n",
    "plt.xlabel('Batch')\n",
    "plt.ylabel('Loss')\n",
    "plt.show()\n",
    "\n",
    "# Plot the accuracy evolution\n",
    "plt.plot(accuracy_evolution)\n",
    "plt.title('Accuracy evolution')\n",
    "plt.xlabel('Epoch')\n",
    "plt.ylabel('Accuracy')\n",
    "plt.show()\n",
    "\n",
    "# Save the model\n",
    "torch.save(model.state_dict(), 'resnet101_model.pth')"
   ]
  },
  {
   "cell_type": "markdown",
   "id": "67316169",
   "metadata": {
    "papermill": {
     "duration": 0.064802,
     "end_time": "2024-02-15T21:03:47.055069",
     "exception": false,
     "start_time": "2024-02-15T21:03:46.990267",
     "status": "completed"
    },
    "tags": []
   },
   "source": [
    "### Densenet 121"
   ]
  },
  {
   "cell_type": "code",
   "execution_count": 30,
   "id": "ee6302e5",
   "metadata": {
    "execution": {
     "iopub.execute_input": "2024-02-15T21:03:47.186448Z",
     "iopub.status.busy": "2024-02-15T21:03:47.186101Z",
     "iopub.status.idle": "2024-02-15T21:03:47.274665Z",
     "shell.execute_reply": "2024-02-15T21:03:47.273789Z"
    },
    "papermill": {
     "duration": 0.156516,
     "end_time": "2024-02-15T21:03:47.276544",
     "exception": false,
     "start_time": "2024-02-15T21:03:47.120028",
     "status": "completed"
    },
    "tags": []
   },
   "outputs": [],
   "source": [
    "torch.cuda.empty_cache()"
   ]
  },
  {
   "cell_type": "code",
   "execution_count": 31,
   "id": "7ad46024",
   "metadata": {
    "execution": {
     "iopub.execute_input": "2024-02-15T21:03:47.405423Z",
     "iopub.status.busy": "2024-02-15T21:03:47.405155Z",
     "iopub.status.idle": "2024-02-15T21:05:02.872321Z",
     "shell.execute_reply": "2024-02-15T21:05:02.871376Z"
    },
    "papermill": {
     "duration": 75.534752,
     "end_time": "2024-02-15T21:05:02.874938",
     "exception": false,
     "start_time": "2024-02-15T21:03:47.340186",
     "status": "completed"
    },
    "tags": []
   },
   "outputs": [
    {
     "name": "stderr",
     "output_type": "stream",
     "text": [
      "/opt/conda/lib/python3.10/site-packages/torchvision/models/_utils.py:223: UserWarning: Arguments other than a weight enum or `None` for 'weights' are deprecated since 0.13 and may be removed in the future. The current behavior is equivalent to passing `weights=DenseNet121_Weights.IMAGENET1K_V1`. You can also use `weights=DenseNet121_Weights.DEFAULT` to get the most up-to-date weights.\n",
      "  warnings.warn(msg)\n",
      "Downloading: \"https://download.pytorch.org/models/densenet121-a639ec97.pth\" to /root/.cache/torch/hub/checkpoints/densenet121-a639ec97.pth\n",
      "100%|██████████| 30.8M/30.8M [00:00<00:00, 128MB/s]\n",
      "  4%|▍         | 1/25 [00:03<01:13,  3.06s/it]"
     ]
    },
    {
     "name": "stdout",
     "output_type": "stream",
     "text": [
      "[1] loss: 0.030 | Accuracy: 53 %\n"
     ]
    },
    {
     "name": "stderr",
     "output_type": "stream",
     "text": [
      "  8%|▊         | 2/25 [00:06<01:08,  2.99s/it]"
     ]
    },
    {
     "name": "stdout",
     "output_type": "stream",
     "text": [
      "[2] loss: 0.031 | Accuracy: 34 %\n"
     ]
    },
    {
     "name": "stderr",
     "output_type": "stream",
     "text": [
      " 12%|█▏        | 3/25 [00:08<01:05,  2.98s/it]"
     ]
    },
    {
     "name": "stdout",
     "output_type": "stream",
     "text": [
      "[3] loss: 0.029 | Accuracy: 46 %\n"
     ]
    },
    {
     "name": "stderr",
     "output_type": "stream",
     "text": [
      " 16%|█▌        | 4/25 [00:12<01:03,  3.03s/it]"
     ]
    },
    {
     "name": "stdout",
     "output_type": "stream",
     "text": [
      "[4] loss: 0.030 | Accuracy: 59 %\n"
     ]
    },
    {
     "name": "stderr",
     "output_type": "stream",
     "text": [
      " 20%|██        | 5/25 [00:15<01:00,  3.04s/it]"
     ]
    },
    {
     "name": "stdout",
     "output_type": "stream",
     "text": [
      "[5] loss: 0.025 | Accuracy: 71 %\n"
     ]
    },
    {
     "name": "stderr",
     "output_type": "stream",
     "text": [
      " 24%|██▍       | 6/25 [00:18<00:57,  3.03s/it]"
     ]
    },
    {
     "name": "stdout",
     "output_type": "stream",
     "text": [
      "[6] loss: 0.029 | Accuracy: 59 %\n"
     ]
    },
    {
     "name": "stderr",
     "output_type": "stream",
     "text": [
      " 28%|██▊       | 7/25 [00:21<00:54,  3.05s/it]"
     ]
    },
    {
     "name": "stdout",
     "output_type": "stream",
     "text": [
      "[7] loss: 0.025 | Accuracy: 68 %\n"
     ]
    },
    {
     "name": "stderr",
     "output_type": "stream",
     "text": [
      " 32%|███▏      | 8/25 [00:24<00:50,  2.99s/it]"
     ]
    },
    {
     "name": "stdout",
     "output_type": "stream",
     "text": [
      "[8] loss: 0.023 | Accuracy: 50 %\n"
     ]
    },
    {
     "name": "stderr",
     "output_type": "stream",
     "text": [
      " 36%|███▌      | 9/25 [00:27<00:48,  3.03s/it]"
     ]
    },
    {
     "name": "stdout",
     "output_type": "stream",
     "text": [
      "[9] loss: 0.025 | Accuracy: 56 %\n"
     ]
    },
    {
     "name": "stderr",
     "output_type": "stream",
     "text": [
      " 40%|████      | 10/25 [00:30<00:44,  2.98s/it]"
     ]
    },
    {
     "name": "stdout",
     "output_type": "stream",
     "text": [
      "[10] loss: 0.018 | Accuracy: 59 %\n"
     ]
    },
    {
     "name": "stderr",
     "output_type": "stream",
     "text": [
      " 44%|████▍     | 11/25 [00:33<00:41,  2.96s/it]"
     ]
    },
    {
     "name": "stdout",
     "output_type": "stream",
     "text": [
      "[11] loss: 0.023 | Accuracy: 68 %\n"
     ]
    },
    {
     "name": "stderr",
     "output_type": "stream",
     "text": [
      " 48%|████▊     | 12/25 [00:36<00:38,  2.99s/it]"
     ]
    },
    {
     "name": "stdout",
     "output_type": "stream",
     "text": [
      "[12] loss: 0.025 | Accuracy: 56 %\n"
     ]
    },
    {
     "name": "stderr",
     "output_type": "stream",
     "text": [
      " 52%|█████▏    | 13/25 [00:39<00:35,  3.00s/it]"
     ]
    },
    {
     "name": "stdout",
     "output_type": "stream",
     "text": [
      "[13] loss: 0.024 | Accuracy: 59 %\n"
     ]
    },
    {
     "name": "stderr",
     "output_type": "stream",
     "text": [
      " 56%|█████▌    | 14/25 [00:41<00:32,  2.96s/it]"
     ]
    },
    {
     "name": "stdout",
     "output_type": "stream",
     "text": [
      "[14] loss: 0.022 | Accuracy: 46 %\n"
     ]
    },
    {
     "name": "stderr",
     "output_type": "stream",
     "text": [
      " 60%|██████    | 15/25 [00:45<00:30,  3.01s/it]"
     ]
    },
    {
     "name": "stdout",
     "output_type": "stream",
     "text": [
      "[15] loss: 0.021 | Accuracy: 71 %\n"
     ]
    },
    {
     "name": "stderr",
     "output_type": "stream",
     "text": [
      " 64%|██████▍   | 16/25 [00:48<00:27,  3.02s/it]"
     ]
    },
    {
     "name": "stdout",
     "output_type": "stream",
     "text": [
      "[16] loss: 0.024 | Accuracy: 62 %\n"
     ]
    },
    {
     "name": "stderr",
     "output_type": "stream",
     "text": [
      " 68%|██████▊   | 17/25 [00:51<00:24,  3.03s/it]"
     ]
    },
    {
     "name": "stdout",
     "output_type": "stream",
     "text": [
      "[17] loss: 0.022 | Accuracy: 62 %\n"
     ]
    },
    {
     "name": "stderr",
     "output_type": "stream",
     "text": [
      " 72%|███████▏  | 18/25 [00:54<00:21,  3.03s/it]"
     ]
    },
    {
     "name": "stdout",
     "output_type": "stream",
     "text": [
      "[18] loss: 0.025 | Accuracy: 56 %\n"
     ]
    },
    {
     "name": "stderr",
     "output_type": "stream",
     "text": [
      " 76%|███████▌  | 19/25 [00:57<00:18,  3.04s/it]"
     ]
    },
    {
     "name": "stdout",
     "output_type": "stream",
     "text": [
      "[19] loss: 0.021 | Accuracy: 53 %\n"
     ]
    },
    {
     "name": "stderr",
     "output_type": "stream",
     "text": [
      " 80%|████████  | 20/25 [01:00<00:14,  2.99s/it]"
     ]
    },
    {
     "name": "stdout",
     "output_type": "stream",
     "text": [
      "[20] loss: 0.018 | Accuracy: 65 %\n"
     ]
    },
    {
     "name": "stderr",
     "output_type": "stream",
     "text": [
      " 84%|████████▍ | 21/25 [01:03<00:11,  2.97s/it]"
     ]
    },
    {
     "name": "stdout",
     "output_type": "stream",
     "text": [
      "[21] loss: 0.016 | Accuracy: 59 %\n"
     ]
    },
    {
     "name": "stderr",
     "output_type": "stream",
     "text": [
      " 88%|████████▊ | 22/25 [01:05<00:08,  2.94s/it]"
     ]
    },
    {
     "name": "stdout",
     "output_type": "stream",
     "text": [
      "[22] loss: 0.015 | Accuracy: 68 %\n"
     ]
    },
    {
     "name": "stderr",
     "output_type": "stream",
     "text": [
      " 92%|█████████▏| 23/25 [01:08<00:05,  2.93s/it]"
     ]
    },
    {
     "name": "stdout",
     "output_type": "stream",
     "text": [
      "[23] loss: 0.016 | Accuracy: 81 %\n"
     ]
    },
    {
     "name": "stderr",
     "output_type": "stream",
     "text": [
      " 96%|█████████▌| 24/25 [01:11<00:02,  2.92s/it]"
     ]
    },
    {
     "name": "stdout",
     "output_type": "stream",
     "text": [
      "[24] loss: 0.019 | Accuracy: 56 %\n"
     ]
    },
    {
     "name": "stderr",
     "output_type": "stream",
     "text": [
      "100%|██████████| 25/25 [01:14<00:00,  2.99s/it]"
     ]
    },
    {
     "name": "stdout",
     "output_type": "stream",
     "text": [
      "[25] loss: 0.020 | Accuracy: 78 %\n"
     ]
    },
    {
     "name": "stderr",
     "output_type": "stream",
     "text": [
      "\n"
     ]
    }
   ],
   "source": [
    "from torchvision.models import densenet121\n",
    "model_densenet121 = densenet121(pretrained=True)\n",
    "\n",
    "# Modify the first convolution layer to accept 1 channel instead of 3\n",
    "model_densenet121.features.conv0 = nn.Conv2d(1, 64, kernel_size=7, stride=2, padding=3, bias=False)\n",
    "\n",
    "# Modify the fully connected layer for your specific task\n",
    "model_densenet121.classifier = nn.Linear(model_densenet121.classifier.in_features, num_classes)\n",
    "\n",
    "model = model_densenet121\n",
    "model = nn.DataParallel(model, device_ids=device_ids)\n",
    "model = model.cuda()\n",
    "\n",
    "# Define the loss function and the optimizer\n",
    "criterion = nn.CrossEntropyLoss()\n",
    "optimizer = optim.Adam(model.parameters(), lr=1e-4)\n",
    "\n",
    "# Training loop\n",
    "EPOCH = 25\n",
    "\n",
    "loss_evolution = []\n",
    "accuracy_evolution = []\n",
    "\n",
    "for epoch in tqdm.trange(EPOCH):\n",
    "    running_loss = 0.0\n",
    "    correct = 0\n",
    "    total = 0\n",
    "\n",
    "    for i, data in enumerate(train_dataloader, 0):\n",
    "        # get the inputs; data is a list of [inputs, labels]\n",
    "        inputs, _, labels = data\n",
    "        inputs = inputs.cuda()\n",
    "        labels = torch.tensor([animals_dict[label] for label in labels]).cuda()\n",
    "\n",
    "        # Add a channel dimension to the input\n",
    "        inputs = inputs.unsqueeze(1)\n",
    "        \n",
    "        # zero the parameter gradients\n",
    "        optimizer.zero_grad()\n",
    "        \n",
    "\n",
    "        # forward + backward + optimize\n",
    "        outputs = model(inputs)\n",
    "\n",
    "        loss = criterion(outputs, labels)\n",
    "        loss_evolution.append(loss.item())\n",
    "        loss.backward()\n",
    "        optimizer.step()\n",
    "\n",
    "        # print statistics\n",
    "        running_loss += loss.item()\n",
    "        break\n",
    "\n",
    "    # Accuracy computation\n",
    "    with torch.no_grad():\n",
    "        for data in val_dataloader:\n",
    "            inputs, _, labels = data\n",
    "            inputs = inputs.cuda()\n",
    "            labels = torch.tensor([animals_dict[label] for label in labels]).cuda()\n",
    "            \n",
    "            # Add a channel dimension to the input\n",
    "            inputs = inputs.unsqueeze(1)\n",
    "        \n",
    "            outputs = model(inputs)\n",
    "            _, predicted = torch.max(outputs.data, 1)\n",
    "            total += len(labels)\n",
    "            correct += (predicted == labels).sum().item()\n",
    "            break\n",
    "\n",
    "    accuracy_evolution.append(100 * correct / total)\n",
    "    print('[%d] loss: %.3f | Accuracy: %d %%' % (epoch + 1, running_loss / len(train_dataloader), 100 * correct / total))"
   ]
  },
  {
   "cell_type": "code",
   "execution_count": 32,
   "id": "f138a6f8",
   "metadata": {
    "execution": {
     "iopub.execute_input": "2024-02-15T21:05:03.020120Z",
     "iopub.status.busy": "2024-02-15T21:05:03.019797Z",
     "iopub.status.idle": "2024-02-15T21:05:03.570287Z",
     "shell.execute_reply": "2024-02-15T21:05:03.569251Z"
    },
    "papermill": {
     "duration": 0.624831,
     "end_time": "2024-02-15T21:05:03.572685",
     "exception": false,
     "start_time": "2024-02-15T21:05:02.947854",
     "status": "completed"
    },
    "tags": []
   },
   "outputs": [
    {
     "data": {
      "image/png": "[encoded data removed]",
      "text/plain": [
       "<Figure size 640x480 with 1 Axes>"
      ]
     },
     "metadata": {},
     "output_type": "display_data"
    },
    {
     "data": {
      "image/png": "[encoded data removed]",
      "text/plain": [
       "<Figure size 640x480 with 1 Axes>"
      ]
     },
     "metadata": {},
     "output_type": "display_data"
    }
   ],
   "source": [
    "# Plot the loss evolution\n",
    "plt.plot(loss_evolution)\n",
    "plt.title('Loss evolution')\n",
    "plt.xlabel('Batch')\n",
    "plt.ylabel('Loss')\n",
    "plt.show()\n",
    "\n",
    "# Plot the accuracy evolution\n",
    "plt.plot(accuracy_evolution)\n",
    "plt.title('Accuracy evolution')\n",
    "plt.xlabel('Epoch')\n",
    "plt.ylabel('Accuracy')\n",
    "plt.show()\n",
    "\n",
    "# Save the model\n",
    "torch.save(model.state_dict(), 'resnet101_model.pth')"
   ]
  },
  {
   "cell_type": "markdown",
   "id": "6549b316",
   "metadata": {
    "papermill": {
     "duration": 0.069399,
     "end_time": "2024-02-15T21:05:03.712545",
     "exception": false,
     "start_time": "2024-02-15T21:05:03.643146",
     "status": "completed"
    },
    "tags": []
   },
   "source": [
    "### MobileNetV2"
   ]
  },
  {
   "cell_type": "code",
   "execution_count": 33,
   "id": "07a8f1ee",
   "metadata": {
    "execution": {
     "iopub.execute_input": "2024-02-15T21:05:03.907025Z",
     "iopub.status.busy": "2024-02-15T21:05:03.906159Z",
     "iopub.status.idle": "2024-02-15T21:05:04.119510Z",
     "shell.execute_reply": "2024-02-15T21:05:04.118599Z"
    },
    "papermill": {
     "duration": 0.287076,
     "end_time": "2024-02-15T21:05:04.121340",
     "exception": false,
     "start_time": "2024-02-15T21:05:03.834264",
     "status": "completed"
    },
    "tags": []
   },
   "outputs": [],
   "source": [
    "torch.cuda.empty_cache()"
   ]
  },
  {
   "cell_type": "code",
   "execution_count": 34,
   "id": "3bd228e9",
   "metadata": {
    "execution": {
     "iopub.execute_input": "2024-02-15T21:05:04.268200Z",
     "iopub.status.busy": "2024-02-15T21:05:04.267421Z",
     "iopub.status.idle": "2024-02-15T21:06:09.764588Z",
     "shell.execute_reply": "2024-02-15T21:06:09.763655Z"
    },
    "papermill": {
     "duration": 65.574914,
     "end_time": "2024-02-15T21:06:09.767710",
     "exception": false,
     "start_time": "2024-02-15T21:05:04.192796",
     "status": "completed"
    },
    "tags": []
   },
   "outputs": [
    {
     "name": "stderr",
     "output_type": "stream",
     "text": [
      "/opt/conda/lib/python3.10/site-packages/torchvision/models/_utils.py:223: UserWarning: Arguments other than a weight enum or `None` for 'weights' are deprecated since 0.13 and may be removed in the future. The current behavior is equivalent to passing `weights=MobileNet_V2_Weights.IMAGENET1K_V1`. You can also use `weights=MobileNet_V2_Weights.DEFAULT` to get the most up-to-date weights.\n",
      "  warnings.warn(msg)\n",
      "Downloading: \"https://download.pytorch.org/models/mobilenet_v2-b0353104.pth\" to /root/.cache/torch/hub/checkpoints/mobilenet_v2-b0353104.pth\n",
      "100%|██████████| 13.6M/13.6M [00:00<00:00, 103MB/s] \n",
      "  4%|▍         | 1/25 [00:02<01:02,  2.60s/it]"
     ]
    },
    {
     "name": "stdout",
     "output_type": "stream",
     "text": [
      "[1] loss: 0.033 | Accuracy: 40 %\n"
     ]
    },
    {
     "name": "stderr",
     "output_type": "stream",
     "text": [
      "  8%|▊         | 2/25 [00:05<00:59,  2.58s/it]"
     ]
    },
    {
     "name": "stdout",
     "output_type": "stream",
     "text": [
      "[2] loss: 0.031 | Accuracy: 34 %\n"
     ]
    },
    {
     "name": "stderr",
     "output_type": "stream",
     "text": [
      " 12%|█▏        | 3/25 [00:07<00:56,  2.55s/it]"
     ]
    },
    {
     "name": "stdout",
     "output_type": "stream",
     "text": [
      "[3] loss: 0.029 | Accuracy: 50 %\n"
     ]
    },
    {
     "name": "stderr",
     "output_type": "stream",
     "text": [
      " 16%|█▌        | 4/25 [00:10<00:54,  2.60s/it]"
     ]
    },
    {
     "name": "stdout",
     "output_type": "stream",
     "text": [
      "[4] loss: 0.028 | Accuracy: 43 %\n"
     ]
    },
    {
     "name": "stderr",
     "output_type": "stream",
     "text": [
      " 20%|██        | 5/25 [00:12<00:51,  2.59s/it]"
     ]
    },
    {
     "name": "stdout",
     "output_type": "stream",
     "text": [
      "[5] loss: 0.027 | Accuracy: 71 %\n"
     ]
    },
    {
     "name": "stderr",
     "output_type": "stream",
     "text": [
      " 24%|██▍       | 6/25 [00:15<00:49,  2.60s/it]"
     ]
    },
    {
     "name": "stdout",
     "output_type": "stream",
     "text": [
      "[6] loss: 0.025 | Accuracy: 71 %\n"
     ]
    },
    {
     "name": "stderr",
     "output_type": "stream",
     "text": [
      " 28%|██▊       | 7/25 [00:18<00:46,  2.58s/it]"
     ]
    },
    {
     "name": "stdout",
     "output_type": "stream",
     "text": [
      "[7] loss: 0.023 | Accuracy: 65 %\n"
     ]
    },
    {
     "name": "stderr",
     "output_type": "stream",
     "text": [
      " 32%|███▏      | 8/25 [00:20<00:43,  2.58s/it]"
     ]
    },
    {
     "name": "stdout",
     "output_type": "stream",
     "text": [
      "[8] loss: 0.020 | Accuracy: 62 %\n"
     ]
    },
    {
     "name": "stderr",
     "output_type": "stream",
     "text": [
      " 36%|███▌      | 9/25 [00:23<00:41,  2.60s/it]"
     ]
    },
    {
     "name": "stdout",
     "output_type": "stream",
     "text": [
      "[9] loss: 0.022 | Accuracy: 56 %\n"
     ]
    },
    {
     "name": "stderr",
     "output_type": "stream",
     "text": [
      " 40%|████      | 10/25 [00:26<00:39,  2.65s/it]"
     ]
    },
    {
     "name": "stdout",
     "output_type": "stream",
     "text": [
      "[10] loss: 0.018 | Accuracy: 68 %\n"
     ]
    },
    {
     "name": "stderr",
     "output_type": "stream",
     "text": [
      " 44%|████▍     | 11/25 [00:28<00:37,  2.67s/it]"
     ]
    },
    {
     "name": "stdout",
     "output_type": "stream",
     "text": [
      "[11] loss: 0.022 | Accuracy: 75 %\n"
     ]
    },
    {
     "name": "stderr",
     "output_type": "stream",
     "text": [
      " 48%|████▊     | 12/25 [00:31<00:34,  2.68s/it]"
     ]
    },
    {
     "name": "stdout",
     "output_type": "stream",
     "text": [
      "[12] loss: 0.017 | Accuracy: 71 %\n"
     ]
    },
    {
     "name": "stderr",
     "output_type": "stream",
     "text": [
      " 52%|█████▏    | 13/25 [00:34<00:31,  2.67s/it]"
     ]
    },
    {
     "name": "stdout",
     "output_type": "stream",
     "text": [
      "[13] loss: 0.031 | Accuracy: 62 %\n"
     ]
    },
    {
     "name": "stderr",
     "output_type": "stream",
     "text": [
      " 56%|█████▌    | 14/25 [00:36<00:28,  2.63s/it]"
     ]
    },
    {
     "name": "stdout",
     "output_type": "stream",
     "text": [
      "[14] loss: 0.015 | Accuracy: 71 %\n"
     ]
    },
    {
     "name": "stderr",
     "output_type": "stream",
     "text": [
      " 60%|██████    | 15/25 [00:39<00:26,  2.60s/it]"
     ]
    },
    {
     "name": "stdout",
     "output_type": "stream",
     "text": [
      "[15] loss: 0.029 | Accuracy: 71 %\n"
     ]
    },
    {
     "name": "stderr",
     "output_type": "stream",
     "text": [
      " 64%|██████▍   | 16/25 [00:41<00:23,  2.60s/it]"
     ]
    },
    {
     "name": "stdout",
     "output_type": "stream",
     "text": [
      "[16] loss: 0.029 | Accuracy: 84 %\n"
     ]
    },
    {
     "name": "stderr",
     "output_type": "stream",
     "text": [
      " 68%|██████▊   | 17/25 [00:44<00:20,  2.58s/it]"
     ]
    },
    {
     "name": "stdout",
     "output_type": "stream",
     "text": [
      "[17] loss: 0.014 | Accuracy: 59 %\n"
     ]
    },
    {
     "name": "stderr",
     "output_type": "stream",
     "text": [
      " 72%|███████▏  | 18/25 [00:46<00:17,  2.57s/it]"
     ]
    },
    {
     "name": "stdout",
     "output_type": "stream",
     "text": [
      "[18] loss: 0.027 | Accuracy: 75 %\n"
     ]
    },
    {
     "name": "stderr",
     "output_type": "stream",
     "text": [
      " 76%|███████▌  | 19/25 [00:49<00:15,  2.56s/it]"
     ]
    },
    {
     "name": "stdout",
     "output_type": "stream",
     "text": [
      "[19] loss: 0.012 | Accuracy: 65 %\n"
     ]
    },
    {
     "name": "stderr",
     "output_type": "stream",
     "text": [
      " 80%|████████  | 20/25 [00:52<00:12,  2.58s/it]"
     ]
    },
    {
     "name": "stdout",
     "output_type": "stream",
     "text": [
      "[20] loss: 0.022 | Accuracy: 68 %\n"
     ]
    },
    {
     "name": "stderr",
     "output_type": "stream",
     "text": [
      " 84%|████████▍ | 21/25 [00:54<00:10,  2.58s/it]"
     ]
    },
    {
     "name": "stdout",
     "output_type": "stream",
     "text": [
      "[21] loss: 0.020 | Accuracy: 68 %\n"
     ]
    },
    {
     "name": "stderr",
     "output_type": "stream",
     "text": [
      " 88%|████████▊ | 22/25 [00:57<00:07,  2.56s/it]"
     ]
    },
    {
     "name": "stdout",
     "output_type": "stream",
     "text": [
      "[22] loss: 0.015 | Accuracy: 56 %\n"
     ]
    },
    {
     "name": "stderr",
     "output_type": "stream",
     "text": [
      " 92%|█████████▏| 23/25 [00:59<00:05,  2.59s/it]"
     ]
    },
    {
     "name": "stdout",
     "output_type": "stream",
     "text": [
      "[23] loss: 0.023 | Accuracy: 62 %\n"
     ]
    },
    {
     "name": "stderr",
     "output_type": "stream",
     "text": [
      " 96%|█████████▌| 24/25 [01:02<00:02,  2.64s/it]"
     ]
    },
    {
     "name": "stdout",
     "output_type": "stream",
     "text": [
      "[24] loss: 0.019 | Accuracy: 65 %\n"
     ]
    },
    {
     "name": "stderr",
     "output_type": "stream",
     "text": [
      "100%|██████████| 25/25 [01:05<00:00,  2.61s/it]"
     ]
    },
    {
     "name": "stdout",
     "output_type": "stream",
     "text": [
      "[25] loss: 0.017 | Accuracy: 62 %\n"
     ]
    },
    {
     "name": "stderr",
     "output_type": "stream",
     "text": [
      "\n"
     ]
    }
   ],
   "source": [
    "from torchvision.models import mobilenet_v2\n",
    "model_mobilenetv2 = mobilenet_v2(pretrained=True)\n",
    "\n",
    "# Modify the first convolution layer to accept 1 channel instead of 3\n",
    "model_mobilenetv2.features[0][0] = nn.Conv2d(1, 32, kernel_size=3, stride=2, padding=1, bias=False)\n",
    "\n",
    "# Modify the fully connected layer for your specific task\n",
    "model_mobilenetv2.classifier[1] = nn.Linear(model_mobilenetv2.classifier[1].in_features, num_classes)\n",
    "\n",
    "model = model_mobilenetv2\n",
    "model = nn.DataParallel(model, device_ids=device_ids)\n",
    "model = model.cuda()\n",
    "\n",
    "# Define the loss function and the optimizer\n",
    "criterion = nn.CrossEntropyLoss()\n",
    "optimizer = optim.Adam(model.parameters(), lr=1e-4)\n",
    "\n",
    "# Training loop\n",
    "EPOCH = 25\n",
    "\n",
    "loss_evolution = []\n",
    "accuracy_evolution = []\n",
    "\n",
    "for epoch in tqdm.trange(EPOCH):\n",
    "    running_loss = 0.0\n",
    "    correct = 0\n",
    "    total = 0\n",
    "\n",
    "    for i, data in enumerate(train_dataloader, 0):\n",
    "        # get the inputs; data is a list of [inputs, labels]\n",
    "        inputs, _, labels = data\n",
    "        inputs = inputs.cuda()\n",
    "        labels = torch.tensor([animals_dict[label] for label in labels]).cuda()\n",
    "\n",
    "        # Add a channel dimension to the input\n",
    "        inputs = inputs.unsqueeze(1)\n",
    "        \n",
    "        # zero the parameter gradients\n",
    "        optimizer.zero_grad()\n",
    "        \n",
    "\n",
    "        # forward + backward + optimize\n",
    "        outputs = model(inputs)\n",
    "\n",
    "        loss = criterion(outputs, labels)\n",
    "        loss_evolution.append(loss.item())\n",
    "        loss.backward()\n",
    "        optimizer.step()\n",
    "\n",
    "        # print statistics\n",
    "        running_loss += loss.item()\n",
    "        break\n",
    "\n",
    "    # Accuracy computation\n",
    "    with torch.no_grad():\n",
    "        for data in val_dataloader:\n",
    "            inputs, _, labels = data\n",
    "            inputs = inputs.cuda()\n",
    "            labels = torch.tensor([animals_dict[label] for label in labels]).cuda()\n",
    "            # Add a channel dimension to the input\n",
    "            inputs = inputs.unsqueeze(1)\n",
    "            outputs = model(inputs)\n",
    "            _, predicted = torch.max(outputs.data, 1)\n",
    "            total += len(labels)\n",
    "            correct += (predicted == labels).sum().item()\n",
    "            break\n",
    "\n",
    "    accuracy_evolution.append(100 * correct / total)\n",
    "    print('[%d] loss: %.3f | Accuracy: %d %%' % (epoch + 1, running_loss / len(train_dataloader), 100 * correct / total))"
   ]
  },
  {
   "cell_type": "code",
   "execution_count": 35,
   "id": "bbcdf88c",
   "metadata": {
    "execution": {
     "iopub.execute_input": "2024-02-15T21:06:09.927575Z",
     "iopub.status.busy": "2024-02-15T21:06:09.926844Z",
     "iopub.status.idle": "2024-02-15T21:06:10.348016Z",
     "shell.execute_reply": "2024-02-15T21:06:10.346962Z"
    },
    "papermill": {
     "duration": 0.503266,
     "end_time": "2024-02-15T21:06:10.350419",
     "exception": false,
     "start_time": "2024-02-15T21:06:09.847153",
     "status": "completed"
    },
    "tags": []
   },
   "outputs": [
    {
     "data": {
      "image/png": "[encoded data removed]",
      "text/plain": [
       "<Figure size 640x480 with 1 Axes>"
      ]
     },
     "metadata": {},
     "output_type": "display_data"
    },
    {
     "data": {
      "image/png": "[encoded data removed]",
      "text/plain": [
       "<Figure size 640x480 with 1 Axes>"
      ]
     },
     "metadata": {},
     "output_type": "display_data"
    }
   ],
   "source": [
    "# Plot the loss evolution\n",
    "plt.plot(loss_evolution)\n",
    "plt.title('Loss evolution')\n",
    "plt.xlabel('Batch')\n",
    "plt.ylabel('Loss')\n",
    "plt.show()\n",
    "\n",
    "# Plot the accuracy evolution\n",
    "plt.plot(accuracy_evolution)\n",
    "plt.title('Accuracy evolution')\n",
    "plt.xlabel('Epoch')\n",
    "plt.ylabel('Accuracy')\n",
    "plt.show()\n",
    "\n",
    "# Save the model\n",
    "torch.save(model.state_dict(), 'resnet101_model.pth')"
   ]
  }
 ],
 "metadata": {
  "kaggle": {
   "accelerator": "nvidiaTeslaT4",
   "dataSources": [
    {
     "datasetId": 4412664,
     "sourceId": 7580412,
     "sourceType": "datasetVersion"
    }
   ],
   "isGpuEnabled": true,
   "isInternetEnabled": true,
   "language": "python",
   "sourceType": "notebook"
  },
  "kernelspec": {
   "display_name": "Python 3",
   "language": "python",
   "name": "python3"
  },
  "language_info": {
   "codemirror_mode": {
    "name": "ipython",
    "version": 3
   },
   "file_extension": ".py",
   "mimetype": "text/x-python",
   "name": "python",
   "nbconvert_exporter": "python",
   "pygments_lexer": "ipython3",
   "version": "3.10.13"
  },
  "papermill": {
   "default_parameters": {},
   "duration": 7636.03665,
   "end_time": "2024-02-15T21:06:14.280032",
   "environment_variables": {},
   "exception": null,
   "input_path": "__notebook__.ipynb",
   "output_path": "__notebook__.ipynb",
   "parameters": {},
   "start_time": "2024-02-15T18:58:58.243382",
   "version": "2.5.0"
  }
 },
 "nbformat": 4,
 "nbformat_minor": 5
}
