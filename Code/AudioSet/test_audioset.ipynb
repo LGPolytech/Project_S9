{
 "cells": [
  {
   "cell_type": "code",
   "execution_count": 11,
   "metadata": {},
   "outputs": [],
   "source": [
    "import sys\n",
    "sys.path.append(r'audioset_download.py')  # replace 'path_to_directory' with the actual directory\n",
    "import audioset_download  \n",
    "sys.path.append(r'audioset_scripts.py')\n",
    "import audioset_scripts "
   ]
  },
  {
   "cell_type": "code",
   "execution_count": 13,
   "metadata": {},
   "outputs": [
    {
     "name": "stdout",
     "output_type": "stream",
     "text": [
      "c:\\Users\\loaiu\\OneDrive - Université Nice Sophia Antipolis\\MAM5\\S1\\Projet\\Project_S9\\Code\\AudioSet\n"
     ]
    }
   ],
   "source": [
    "import sys\n",
    "import os\n",
    "\n",
    "# Add the directory containing audioset_download.py and audioset_scripts.py to sys.path\n",
    "sys.path.append(os.getcwd())\n",
    "print(os.getcwd())\n",
    "\n",
    "from audioset_download import parallelize_download\n",
    "\n",
    "# Specify the parameters for parallelize_download\n",
    "input_file = 'input.txt'  # replace with the path to your input file\n",
    "num_workers = 4  # replace with the number of workers you want to use\n",
    "clip_length = 10000  # replace with the desired clip length\n",
    "sample_rate = 44100  # replace with the desired sample rate\n",
    "bits = 16  # replace with the desired bit quality\n",
    "channels = 1  # replace with the desired number of channels\n",
    "\n",
    "# Download a small part of the dataset\n",
    "parallelize_download(input_file, num_workers, clip_length, sample_rate, bits, channels)"
   ]
  }
 ],
 "metadata": {
  "kernelspec": {
   "display_name": "Python 3",
   "language": "python",
   "name": "python3"
  },
  "language_info": {
   "codemirror_mode": {
    "name": "ipython",
    "version": 3
   },
   "file_extension": ".py",
   "mimetype": "text/x-python",
   "name": "python",
   "nbconvert_exporter": "python",
   "pygments_lexer": "ipython3",
   "version": "3.9.18"
  }
 },
 "nbformat": 4,
 "nbformat_minor": 2
}
